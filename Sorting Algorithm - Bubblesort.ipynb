{
 "cells": [
  {
   "cell_type": "code",
   "execution_count": 40,
   "metadata": {},
   "outputs": [],
   "source": [
    "import time"
   ]
  },
  {
   "cell_type": "code",
   "execution_count": 39,
   "metadata": {},
   "outputs": [
    {
     "name": "stdout",
     "output_type": "stream",
     "text": [
      "[4, 5, 2, 8, 6, 0, 1, 9, 3, 7]\n"
     ]
    }
   ],
   "source": [
    "#Swaps every two elements if the first one is greater\n",
    "test = [4,5,2,8,6,0,1,9,3,7]\n",
    "\n",
    "print(test)\n",
    "\n",
    "def swap(lst):\n",
    "    copy = lst.copy()\n",
    "    swap = 0\n",
    "    \n",
    "    #Iterate through entire list\n",
    "    for i in range(len(copy)-1):\n",
    "        curr = copy[i]\n",
    "        if i < len(copy):\n",
    "            nex = copy[i+1]\n",
    "            if curr > nex:\n",
    "                copy[i],copy[i+1] = nex, curr\n",
    "                swap+=1\n",
    "            if i+1 != len(copy):\n",
    "                i+=1\n",
    "    return copy, swap\n",
    "\n",
    "def bbl_sort(lst):\n",
    "    copy, swp = swap(lst)\n",
    "\n",
    "    while swp != 0:\n",
    "        copy, swp = swap(copy)\n",
    "    \n",
    "    return copy  "
   ]
  },
  {
   "cell_type": "code",
   "execution_count": 41,
   "metadata": {},
   "outputs": [
    {
     "name": "stdout",
     "output_type": "stream",
     "text": [
      "[0, 1, 2, 3, 4, 5, 6, 7, 8, 9] 9.107589721679688e-05\n"
     ]
    }
   ],
   "source": [
    "start_time = time.time()\n",
    "x = bbl_sort(test)\n",
    "finish = time.time()\n",
    "print(x, finish-start_time)"
   ]
  },
  {
   "cell_type": "code",
   "execution_count": null,
   "metadata": {},
   "outputs": [],
   "source": []
  }
 ],
 "metadata": {
  "kernelspec": {
   "display_name": "Python 3",
   "language": "python",
   "name": "python3"
  },
  "language_info": {
   "codemirror_mode": {
    "name": "ipython",
    "version": 3
   },
   "file_extension": ".py",
   "mimetype": "text/x-python",
   "name": "python",
   "nbconvert_exporter": "python",
   "pygments_lexer": "ipython3",
   "version": "3.6.4"
  }
 },
 "nbformat": 4,
 "nbformat_minor": 2
}
