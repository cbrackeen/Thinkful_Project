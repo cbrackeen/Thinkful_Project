{
 "cells": [
  {
   "cell_type": "code",
   "execution_count": 3,
   "metadata": {},
   "outputs": [],
   "source": [
    "import pandas as pd\n",
    "import matplotlib.pyplot as plt\n",
    "import numpy as np\n",
    "import seaborn as sns\n",
    "import scipy.stats as stats"
   ]
  },
  {
   "cell_type": "code",
   "execution_count": 2,
   "metadata": {},
   "outputs": [],
   "source": [
    "data = pd.read_csv('ESSdata_Thinkful.csv')"
   ]
  },
  {
   "cell_type": "code",
   "execution_count": 4,
   "metadata": {},
   "outputs": [],
   "source": [
    "sns.set_style(\"white\")"
   ]
  },
  {
   "cell_type": "code",
   "execution_count": 5,
   "metadata": {},
   "outputs": [
    {
     "name": "stdout",
     "output_type": "stream",
     "text": [
      "  cntry  idno  year  tvtot  ppltrst  pplfair  pplhlp  happy  sclmeet  sclact  \\\n",
      "0    CH   5.0     6    3.0      3.0     10.0     5.0    8.0      5.0     4.0   \n",
      "1    CH  25.0     6    6.0      5.0      7.0     5.0    9.0      3.0     2.0   \n",
      "2    CH  26.0     6    1.0      8.0      8.0     8.0    7.0      6.0     3.0   \n",
      "3    CH  28.0     6    4.0      6.0      6.0     7.0   10.0      6.0     2.0   \n",
      "4    CH  29.0     6    5.0      6.0      7.0     5.0    8.0      7.0     2.0   \n",
      "\n",
      "   gndr  agea  partner  \n",
      "0   2.0  60.0      1.0  \n",
      "1   2.0  59.0      1.0  \n",
      "2   1.0  24.0      2.0  \n",
      "3   2.0  64.0      1.0  \n",
      "4   2.0  55.0      1.0  \n"
     ]
    }
   ],
   "source": [
    "print(data.head())"
   ]
  },
  {
   "cell_type": "code",
   "execution_count": 6,
   "metadata": {},
   "outputs": [
    {
     "name": "stdout",
     "output_type": "stream",
     "text": [
      "['CH' 'CZ' 'DE' 'ES' 'NO' 'SE']\n"
     ]
    }
   ],
   "source": [
    "print(data.cntry.unique())"
   ]
  },
  {
   "cell_type": "code",
   "execution_count": 8,
   "metadata": {},
   "outputs": [
    {
     "name": "stdout",
     "output_type": "stream",
     "text": [
      "cntry     CH    CZ  DE    ES    NO    SE\n",
      "Nordic                                  \n",
      "0       1546  1316  28  2426     0     0\n",
      "1          0     0   0     0  1462  1816\n"
     ]
    }
   ],
   "source": [
    "features = pd.get_dummies(data['cntry'])\n",
    "features['Nordic'] = np.where((data['cntry'].isin(['NO', 'SE'])), 1, 0)\n",
    "print(pd.crosstab(features['Nordic'], data['cntry']))"
   ]
  },
  {
   "cell_type": "code",
   "execution_count": 9,
   "metadata": {},
   "outputs": [
    {
     "name": "stdout",
     "output_type": "stream",
     "text": [
      "               count       mean        std   min   25%   50%   75%    max\n",
      "Adult_65plus                                                             \n",
      "0             6682.0  40.874738  13.958596  15.0  29.0  42.0  53.0   64.0\n",
      "1             1673.0  73.815302   6.650086  65.0  69.0  72.0  78.0  114.0\n"
     ]
    }
   ],
   "source": [
    "features['Adult_65plus'] = np.where(data['agea']>=65, 1, 0)\n",
    "\n",
    "# Check to make sure it worked.\n",
    "print(data['agea'].groupby(features['Adult_65plus']).describe())"
   ]
  },
  {
   "cell_type": "code",
   "execution_count": 13,
   "metadata": {},
   "outputs": [
    {
     "name": "stdout",
     "output_type": "stream",
     "text": [
      "[ 8.  9.  7. 10.  0.  6.  5.  1.  4. nan  3.  2.]\n"
     ]
    }
   ],
   "source": [
    "print(data.happy.unique())"
   ]
  },
  {
   "cell_type": "code",
   "execution_count": 14,
   "metadata": {},
   "outputs": [],
   "source": [
    "dict = {}\n",
    "dict['cntry'] = 'categorical'\n",
    "dict['idno'] = 'ordinal'\n",
    "dict['year'] = 'ratio'\n",
    "dict['tvtot'] = 'ratio'\n",
    "dict['ppltrst'] = 'ordinal'\n",
    "dict['pplfair'] = 'ordinal'\n",
    "dict['pplhlp'] = 'ordinal'\n",
    "dict['happy'] = 'ordinal'\n",
    "dict['sclmeet'] = 'ordinal'\n",
    "dict['sclact'] = 'ordinal'\n",
    "dict['gndr'] = 'ordinal'\n",
    "dict['agea'] = 'ratio'\n",
    "dict['partner'] = 'ordinal'"
   ]
  },
  {
   "cell_type": "code",
   "execution_count": 16,
   "metadata": {},
   "outputs": [
    {
     "data": {
      "text/plain": [
       "{'agea': 'ratio',\n",
       " 'cntry': 'categorical',\n",
       " 'gndr': 'ordinal',\n",
       " 'happy': 'ordinal',\n",
       " 'idno': 'ordinal',\n",
       " 'partner': 'ordinal',\n",
       " 'pplfair': 'ordinal',\n",
       " 'pplhlp': 'ordinal',\n",
       " 'ppltrst': 'ordinal',\n",
       " 'sclact': 'ordinal',\n",
       " 'sclmeet': 'ordinal',\n",
       " 'tvtot': 'ratio',\n",
       " 'year': 'ratio'}"
      ]
     },
     "metadata": {},
     "output_type": "display_data"
    }
   ],
   "source": [
    "display(dict)"
   ]
  },
  {
   "cell_type": "code",
   "execution_count": null,
   "metadata": {},
   "outputs": [],
   "source": []
  }
 ],
 "metadata": {
  "kernelspec": {
   "display_name": "Python 3",
   "language": "python",
   "name": "python3"
  },
  "language_info": {
   "codemirror_mode": {
    "name": "ipython",
    "version": 3
   },
   "file_extension": ".py",
   "mimetype": "text/x-python",
   "name": "python",
   "nbconvert_exporter": "python",
   "pygments_lexer": "ipython3",
   "version": "3.6.4"
  }
 },
 "nbformat": 4,
 "nbformat_minor": 2
}
