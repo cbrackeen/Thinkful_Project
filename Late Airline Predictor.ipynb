{
 "cells": [
  {
   "cell_type": "code",
   "execution_count": 55,
   "metadata": {},
   "outputs": [],
   "source": [
    "import pandas as pd\n",
    "from matplotlib import pyplot as plt\n",
    "import numpy as np\n",
    "import math\n",
    "import seaborn as sns\n",
    "import sklearn\n",
    "from sklearn import linear_model\n",
    "from sklearn import preprocessing\n",
    "%matplotlib inline\n",
    "sns.set_style('white')"
   ]
  },
  {
   "cell_type": "code",
   "execution_count": 56,
   "metadata": {},
   "outputs": [],
   "source": [
    "data = pd.read_csv('2008.csv')"
   ]
  },
  {
   "cell_type": "code",
   "execution_count": 57,
   "metadata": {},
   "outputs": [],
   "source": [
    "#NaN values are tied to flight that are not delayed - we don't want to get rid of these\n",
    "#because they are our negative cases, let's fill them in with zero\n",
    "data = data.fillna(0)"
   ]
  },
  {
   "cell_type": "code",
   "execution_count": 58,
   "metadata": {},
   "outputs": [],
   "source": [
    "#Cannot convert A,B,C,D for regression - changing variable to exisiting or not\n",
    "data.CancellationCode = (data.CancellationCode != 0).astype(int)"
   ]
  },
  {
   "cell_type": "code",
   "execution_count": 59,
   "metadata": {
    "scrolled": true
   },
   "outputs": [],
   "source": [
    "#Separate out Unique Carriers to binary values\n",
    "data = pd.concat([data, (pd.get_dummies(data.UniqueCarrier))], axis=1)\n",
    "data = data.drop(columns=['UniqueCarrier'])"
   ]
  },
  {
   "cell_type": "code",
   "execution_count": 60,
   "metadata": {},
   "outputs": [],
   "source": [
    "#With 303 unique values in Origin and likely something siilar in Dest, we will leave\n",
    "#those values out for now. If needed, we will add them back in with get dummies\n",
    "X = data.drop(columns=['Origin','Dest', 'TailNum'])"
   ]
  },
  {
   "cell_type": "code",
   "execution_count": 61,
   "metadata": {},
   "outputs": [],
   "source": [
    "#Add delayed column \n",
    "X['delayed'] = (data.ArrDelay > 30).astype(int)\n",
    "\n",
    "#Set everything that is not \"delayed\" < 30 minutes as zero minutes\n",
    "X.loc[(X.delayed == 0),['ArrDelay']] = 0\n",
    "\n",
    "#Drop delayed, as this is not information we would have beforehand\n",
    "X = X.drop(columns=['delayed'])"
   ]
  },
  {
   "cell_type": "code",
   "execution_count": 62,
   "metadata": {},
   "outputs": [],
   "source": [
    "y = X.ArrDelay\n",
    "X = X.drop(columns=['ArrDelay'])"
   ]
  },
  {
   "cell_type": "code",
   "execution_count": 63,
   "metadata": {},
   "outputs": [],
   "source": [
    "olr = linear_model.LinearRegression()"
   ]
  },
  {
   "cell_type": "code",
   "execution_count": 64,
   "metadata": {},
   "outputs": [
    {
     "data": {
      "text/plain": [
       "0.9704228916805484"
      ]
     },
     "execution_count": 64,
     "metadata": {},
     "output_type": "execute_result"
    }
   ],
   "source": [
    "olr.fit(X, y)\n",
    "olr.score(X,y)"
   ]
  },
  {
   "cell_type": "code",
   "execution_count": null,
   "metadata": {},
   "outputs": [],
   "source": []
  }
 ],
 "metadata": {
  "kernelspec": {
   "display_name": "Python 3",
   "language": "python",
   "name": "python3"
  },
  "language_info": {
   "codemirror_mode": {
    "name": "ipython",
    "version": 3
   },
   "file_extension": ".py",
   "mimetype": "text/x-python",
   "name": "python",
   "nbconvert_exporter": "python",
   "pygments_lexer": "ipython3",
   "version": "3.6.4"
  }
 },
 "nbformat": 4,
 "nbformat_minor": 2
}
