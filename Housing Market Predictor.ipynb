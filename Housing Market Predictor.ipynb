{
 "cells": [
  {
   "cell_type": "code",
   "execution_count": 32,
   "metadata": {},
   "outputs": [
    {
     "name": "stderr",
     "output_type": "stream",
     "text": [
      "/Library/Frameworks/Python.framework/Versions/3.6/lib/python3.6/site-packages/sklearn/cross_validation.py:41: DeprecationWarning: This module was deprecated in version 0.18 in favor of the model_selection module into which all the refactored classes and functions are moved. Also note that the interface of the new CV iterators are different from that of this module. This module will be removed in 0.20.\n",
      "  \"This module will be removed in 0.20.\", DeprecationWarning)\n",
      "/Library/Frameworks/Python.framework/Versions/3.6/lib/python3.6/site-packages/sklearn/grid_search.py:42: DeprecationWarning: This module was deprecated in version 0.18 in favor of the model_selection module into which all the refactored classes and functions are moved. This module will be removed in 0.20.\n",
      "  DeprecationWarning)\n"
     ]
    }
   ],
   "source": [
    "import pandas as pd\n",
    "from matplotlib import pyplot as plt\n",
    "import numpy as np\n",
    "import math\n",
    "import seaborn as sns\n",
    "import sklearn\n",
    "from sklearn import linear_model\n",
    "from sklearn import preprocessing\n",
    "from sklearn import ensemble\n",
    "from sklearn.model_selection import train_test_split\n",
    "from sklearn.grid_search import GridSearchCV\n",
    "from sklearn.metrics import confusion_matrix\n",
    "%matplotlib inline\n",
    "sns.set_style('white')"
   ]
  },
  {
   "cell_type": "code",
   "execution_count": 5,
   "metadata": {},
   "outputs": [],
   "source": [
    "data = pd.read_csv('Melbourne_housing_FULL.csv')"
   ]
  },
  {
   "cell_type": "code",
   "execution_count": 21,
   "metadata": {},
   "outputs": [
    {
     "data": {
      "text/plain": [
       "27247"
      ]
     },
     "execution_count": 21,
     "metadata": {},
     "output_type": "execute_result"
    }
   ],
   "source": [
    "data_drop = data.loc[(data.Price.isnull() == False),:]\n",
    "len(data_drop)"
   ]
  },
  {
   "cell_type": "code",
   "execution_count": 29,
   "metadata": {},
   "outputs": [
    {
     "name": "stdout",
     "output_type": "stream",
     "text": [
      "Rooms 11\n",
      "Price 2607\n",
      "Distance 211\n",
      "Bedroom2 14\n",
      "Bathroom 10\n",
      "Propertycount 332\n",
      "Regionname_Eastern Metropolitan 2\n",
      "Regionname_Eastern Victoria 2\n",
      "Regionname_Northern Metropolitan 2\n",
      "Regionname_Northern Victoria 2\n",
      "Regionname_South-Eastern Metropolitan 2\n",
      "Regionname_Southern Metropolitan 2\n",
      "Regionname_Western Metropolitan 2\n",
      "Regionname_Western Victoria 2\n",
      "Type_h 2\n",
      "Type_t 2\n",
      "Type_u 2\n",
      "CouncilArea_Banyule City Council 2\n",
      "CouncilArea_Bayside City Council 2\n",
      "CouncilArea_Boroondara City Council 2\n",
      "CouncilArea_Brimbank City Council 2\n",
      "CouncilArea_Cardinia Shire Council 2\n",
      "CouncilArea_Casey City Council 2\n",
      "CouncilArea_Darebin City Council 2\n",
      "CouncilArea_Frankston City Council 2\n",
      "CouncilArea_Glen Eira City Council 2\n",
      "CouncilArea_Greater Dandenong City Council 2\n",
      "CouncilArea_Hobsons Bay City Council 2\n",
      "CouncilArea_Hume City Council 2\n",
      "CouncilArea_Kingston City Council 2\n",
      "CouncilArea_Knox City Council 2\n",
      "CouncilArea_Macedon Ranges Shire Council 2\n",
      "CouncilArea_Manningham City Council 2\n",
      "CouncilArea_Maribyrnong City Council 2\n",
      "CouncilArea_Maroondah City Council 2\n",
      "CouncilArea_Melbourne City Council 2\n",
      "CouncilArea_Melton City Council 2\n",
      "CouncilArea_Mitchell Shire Council 2\n",
      "CouncilArea_Monash City Council 2\n",
      "CouncilArea_Moonee Valley City Council 2\n",
      "CouncilArea_Moorabool Shire Council 2\n",
      "CouncilArea_Moreland City Council 2\n",
      "CouncilArea_Nillumbik Shire Council 2\n",
      "CouncilArea_Port Phillip City Council 2\n",
      "CouncilArea_Stonnington City Council 2\n",
      "CouncilArea_Whitehorse City Council 2\n",
      "CouncilArea_Whittlesea City Council 2\n",
      "CouncilArea_Wyndham City Council 2\n",
      "CouncilArea_Yarra City Council 2\n",
      "CouncilArea_Yarra Ranges Shire Council 2\n"
     ]
    }
   ],
   "source": [
    "for col in data_drop.columns:\n",
    "    print(col, data_drop[col].nunique())"
   ]
  },
  {
   "cell_type": "code",
   "execution_count": 23,
   "metadata": {},
   "outputs": [],
   "source": [
    "#See which columns are most contributing to the loss of data w/ dropna\n",
    "#Removing BuildingArea and YearBuilt we double the data we have for testing\n",
    "#for col in data_drop.columns:\n",
    "#    print(str(col),len(data_drop[col].dropna()))\n"
   ]
  },
  {
   "cell_type": "code",
   "execution_count": 24,
   "metadata": {},
   "outputs": [],
   "source": [
    "#Remove all columns that drop data below 21000\n",
    "data_drop = data_drop.drop(columns=['BuildingArea','YearBuilt','Landsize','Car','Lattitude'\n",
    "                                   ,'Longtitude'])\n",
    "\n",
    "#Remove all items that have too many unique values\n",
    "data_drop = data_drop.drop(columns=['Address','Date','Method','Suburb','SellerG','Postcode'])"
   ]
  },
  {
   "cell_type": "code",
   "execution_count": 25,
   "metadata": {},
   "outputs": [],
   "source": [
    "#Turn string value columns we are keeping into binary\n",
    "data_drop = pd.get_dummies(data_drop, columns=['Regionname','Type','CouncilArea'\n",
    "                                              ])\n",
    "\n"
   ]
  },
  {
   "cell_type": "code",
   "execution_count": 26,
   "metadata": {},
   "outputs": [],
   "source": [
    "data_drop = data_drop.dropna()"
   ]
  },
  {
   "cell_type": "code",
   "execution_count": 27,
   "metadata": {},
   "outputs": [],
   "source": [
    "X = data_drop.drop(columns=['Price'])\n",
    "y = data_drop.Price"
   ]
  },
  {
   "cell_type": "code",
   "execution_count": 28,
   "metadata": {},
   "outputs": [],
   "source": [
    "X_train, X_test, y_train, y_test = train_test_split(X,y,test_size=0.2)"
   ]
  },
  {
   "cell_type": "code",
   "execution_count": 30,
   "metadata": {},
   "outputs": [
    {
     "data": {
      "text/plain": [
       "0.6340090984488932"
      ]
     },
     "execution_count": 30,
     "metadata": {},
     "output_type": "execute_result"
    }
   ],
   "source": [
    "#Predicting House price - Regression!\n",
    "olr = linear_model.LinearRegression();\n",
    "olr.fit(X_train, y_train);\n",
    "olr.score(X_test, y_test)"
   ]
  },
  {
   "cell_type": "code",
   "execution_count": 43,
   "metadata": {},
   "outputs": [
    {
     "name": "stdout",
     "output_type": "stream",
     "text": [
      "[ 1.53339512e+05 -4.05519251e+04  2.81673842e+04  1.85157091e+05\n",
      "  5.29166762e-01  5.79748966e+04  8.06215277e+04 -2.01618097e+05\n",
      "  3.12869568e+05 -0.00000000e+00 -7.61048527e+04 -6.09437580e+04\n",
      "  3.51893254e+05  4.38446435e+05  7.94919310e+04 -1.26197578e+05\n",
      " -2.08675571e+05  6.11355530e+05  4.99344764e+05 -4.15463892e+05\n",
      "  3.46650058e+05  1.29024898e+05 -5.05355274e+04  4.46032149e+05\n",
      "  1.90036387e+05  8.64707105e+03 -1.63391987e+05 -2.30017063e+05\n",
      "  1.40020493e+05 -1.17877303e+05  4.05513278e+05 -8.16041244e+04\n",
      " -3.23127686e+05 -1.28546940e+04  7.68958399e+04 -4.57864982e+05\n",
      "  9.07960587e+04  9.24719177e+04 -1.39497830e+05 -1.30102111e+04\n",
      " -9.60478234e+04 -4.80561980e+05  2.43303693e+05  4.67714288e+05\n",
      "  0.00000000e+00 -1.37603742e+05 -4.85401678e+05  6.54280891e+04\n",
      "  1.82790202e+04]\n"
     ]
    },
    {
     "name": "stderr",
     "output_type": "stream",
     "text": [
      "/Library/Frameworks/Python.framework/Versions/3.6/lib/python3.6/site-packages/sklearn/linear_model/coordinate_descent.py:491: ConvergenceWarning: Objective did not converge. You might want to increase the number of iterations. Fitting data with very small alpha may cause precision problems.\n",
      "  ConvergenceWarning)\n"
     ]
    }
   ],
   "source": [
    "lasso = linear_model.Lasso(alpha=13)\n",
    "lasso.fit(X_train, y_train)\n",
    "lasso.score(X_test, y_test)\n"
   ]
  },
  {
   "cell_type": "code",
   "execution_count": 40,
   "metadata": {},
   "outputs": [
    {
     "name": "stdout",
     "output_type": "stream",
     "text": [
      "Fitting 3 folds for each of 5 candidates, totalling 15 fits\n"
     ]
    },
    {
     "name": "stderr",
     "output_type": "stream",
     "text": [
      "/Library/Frameworks/Python.framework/Versions/3.6/lib/python3.6/site-packages/sklearn/linear_model/coordinate_descent.py:491: ConvergenceWarning: Objective did not converge. You might want to increase the number of iterations. Fitting data with very small alpha may cause precision problems.\n",
      "  ConvergenceWarning)\n",
      "/Library/Frameworks/Python.framework/Versions/3.6/lib/python3.6/site-packages/sklearn/linear_model/coordinate_descent.py:491: ConvergenceWarning: Objective did not converge. You might want to increase the number of iterations. Fitting data with very small alpha may cause precision problems.\n",
      "  ConvergenceWarning)\n",
      "/Library/Frameworks/Python.framework/Versions/3.6/lib/python3.6/site-packages/sklearn/linear_model/coordinate_descent.py:491: ConvergenceWarning: Objective did not converge. You might want to increase the number of iterations. Fitting data with very small alpha may cause precision problems.\n",
      "  ConvergenceWarning)\n",
      "/Library/Frameworks/Python.framework/Versions/3.6/lib/python3.6/site-packages/sklearn/linear_model/coordinate_descent.py:491: ConvergenceWarning: Objective did not converge. You might want to increase the number of iterations. Fitting data with very small alpha may cause precision problems.\n",
      "  ConvergenceWarning)\n",
      "/Library/Frameworks/Python.framework/Versions/3.6/lib/python3.6/site-packages/sklearn/linear_model/coordinate_descent.py:491: ConvergenceWarning: Objective did not converge. You might want to increase the number of iterations. Fitting data with very small alpha may cause precision problems.\n",
      "  ConvergenceWarning)\n",
      "/Library/Frameworks/Python.framework/Versions/3.6/lib/python3.6/site-packages/sklearn/linear_model/coordinate_descent.py:491: ConvergenceWarning: Objective did not converge. You might want to increase the number of iterations. Fitting data with very small alpha may cause precision problems.\n",
      "  ConvergenceWarning)\n",
      "/Library/Frameworks/Python.framework/Versions/3.6/lib/python3.6/site-packages/sklearn/linear_model/coordinate_descent.py:491: ConvergenceWarning: Objective did not converge. You might want to increase the number of iterations. Fitting data with very small alpha may cause precision problems.\n",
      "  ConvergenceWarning)\n",
      "/Library/Frameworks/Python.framework/Versions/3.6/lib/python3.6/site-packages/sklearn/linear_model/coordinate_descent.py:491: ConvergenceWarning: Objective did not converge. You might want to increase the number of iterations. Fitting data with very small alpha may cause precision problems.\n",
      "  ConvergenceWarning)\n",
      "/Library/Frameworks/Python.framework/Versions/3.6/lib/python3.6/site-packages/sklearn/linear_model/coordinate_descent.py:491: ConvergenceWarning: Objective did not converge. You might want to increase the number of iterations. Fitting data with very small alpha may cause precision problems.\n",
      "  ConvergenceWarning)\n",
      "/Library/Frameworks/Python.framework/Versions/3.6/lib/python3.6/site-packages/sklearn/linear_model/coordinate_descent.py:491: ConvergenceWarning: Objective did not converge. You might want to increase the number of iterations. Fitting data with very small alpha may cause precision problems.\n",
      "  ConvergenceWarning)\n",
      "[Parallel(n_jobs=1)]: Done  15 out of  15 | elapsed:   38.9s finished\n",
      "/Library/Frameworks/Python.framework/Versions/3.6/lib/python3.6/site-packages/sklearn/linear_model/coordinate_descent.py:491: ConvergenceWarning: Objective did not converge. You might want to increase the number of iterations. Fitting data with very small alpha may cause precision problems.\n",
      "  ConvergenceWarning)\n"
     ]
    },
    {
     "data": {
      "text/plain": [
       "GridSearchCV(cv=3, error_score='raise',\n",
       "       estimator=Lasso(alpha=10, copy_X=True, fit_intercept=True, max_iter=1000,\n",
       "   normalize=False, positive=False, precompute=False, random_state=None,\n",
       "   selection='cyclic', tol=0.0001, warm_start=False),\n",
       "       fit_params={}, iid=True, n_jobs=1,\n",
       "       param_grid={'alpha': [11, 12, 13, 14, 15]}, pre_dispatch='2*n_jobs',\n",
       "       refit=True, scoring=None, verbose=1)"
      ]
     },
     "execution_count": 40,
     "metadata": {},
     "output_type": "execute_result"
    }
   ],
   "source": [
    "gsc = GridSearchCV(lasso, {'alpha':[11, 12, 13, 14, 15]}, cv=3, verbose=1)\n",
    "gsc.fit(X_train, y_train)"
   ]
  },
  {
   "cell_type": "code",
   "execution_count": 41,
   "metadata": {},
   "outputs": [
    {
     "name": "stdout",
     "output_type": "stream",
     "text": [
      "{'alpha': 13} 0.6173369286266706\n"
     ]
    }
   ],
   "source": [
    "print(gsc.best_params_, gsc.best_score_)"
   ]
  },
  {
   "cell_type": "code",
   "execution_count": 52,
   "metadata": {},
   "outputs": [],
   "source": [
    "s_coef = np.argsort(np.abs(lasso.coef_))"
   ]
  },
  {
   "cell_type": "code",
   "execution_count": 55,
   "metadata": {},
   "outputs": [
    {
     "name": "stdout",
     "output_type": "stream",
     "text": [
      "Index(['CouncilArea_Macedon Ranges Shire Council',\n",
      "       'CouncilArea_Brimbank City Council', 'Type_h',\n",
      "       'CouncilArea_Frankston City Council', 'CouncilArea_Melton City Council',\n",
      "       'CouncilArea_Stonnington City Council',\n",
      "       'CouncilArea_Nillumbik Shire Council',\n",
      "       'CouncilArea_Wyndham City Council',\n",
      "       'CouncilArea_Boroondara City Council',\n",
      "       'CouncilArea_Bayside City Council'],\n",
      "      dtype='object')\n"
     ]
    }
   ],
   "source": [
    "print(X.columns[s_coef][-10:])"
   ]
  },
  {
   "cell_type": "code",
   "execution_count": null,
   "metadata": {},
   "outputs": [],
   "source": []
  }
 ],
 "metadata": {
  "kernelspec": {
   "display_name": "Python 3",
   "language": "python",
   "name": "python3"
  },
  "language_info": {
   "codemirror_mode": {
    "name": "ipython",
    "version": 3
   },
   "file_extension": ".py",
   "mimetype": "text/x-python",
   "name": "python",
   "nbconvert_exporter": "python",
   "pygments_lexer": "ipython3",
   "version": "3.6.4"
  }
 },
 "nbformat": 4,
 "nbformat_minor": 2
}
