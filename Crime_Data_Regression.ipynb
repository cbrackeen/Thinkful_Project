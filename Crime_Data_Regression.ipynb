{
 "cells": [
  {
   "cell_type": "code",
   "execution_count": 241,
   "metadata": {},
   "outputs": [],
   "source": [
    "import pandas as pd\n",
    "from matplotlib import pyplot as plt\n",
    "import numpy as np\n",
    "import math\n",
    "import seaborn as sns\n",
    "import sklearn\n",
    "from sklearn import linear_model\n",
    "from sklearn import preprocessing\n",
    "import io\n",
    "import requests\n",
    "from sklearn.model_selection import cross_val_score\n",
    "%matplotlib inline\n",
    "sns.set_style('white')"
   ]
  },
  {
   "cell_type": "code",
   "execution_count": 242,
   "metadata": {},
   "outputs": [],
   "source": [
    "data = pd.read_excel('table_8_offenses_known_to_law_enforcement_arizona_by_city_2013.xls', \n",
    "                     skiprows=4)"
   ]
  },
  {
   "cell_type": "code",
   "execution_count": 243,
   "metadata": {},
   "outputs": [
    {
     "data": {
      "text/html": [
       "<div>\n",
       "<style scoped>\n",
       "    .dataframe tbody tr th:only-of-type {\n",
       "        vertical-align: middle;\n",
       "    }\n",
       "\n",
       "    .dataframe tbody tr th {\n",
       "        vertical-align: top;\n",
       "    }\n",
       "\n",
       "    .dataframe thead th {\n",
       "        text-align: right;\n",
       "    }\n",
       "</style>\n",
       "<table border=\"1\" class=\"dataframe\">\n",
       "  <thead>\n",
       "    <tr style=\"text-align: right;\">\n",
       "      <th></th>\n",
       "      <th>City</th>\n",
       "      <th>Population</th>\n",
       "      <th>Violent\n",
       "crime</th>\n",
       "      <th>Murder and\n",
       "nonnegligent\n",
       "manslaughter</th>\n",
       "      <th>Rape\n",
       "(revised\n",
       "definition)1</th>\n",
       "      <th>Rape\n",
       "(legacy\n",
       "definition)2</th>\n",
       "      <th>Robbery</th>\n",
       "      <th>Aggravated\n",
       "assault</th>\n",
       "      <th>Property\n",
       "crime</th>\n",
       "      <th>Burglary</th>\n",
       "      <th>Larceny-\n",
       "theft</th>\n",
       "      <th>Motor\n",
       "vehicle\n",
       "theft</th>\n",
       "      <th>Arson</th>\n",
       "    </tr>\n",
       "  </thead>\n",
       "  <tbody>\n",
       "    <tr>\n",
       "      <th>0</th>\n",
       "      <td>Bisbee</td>\n",
       "      <td>5463.0</td>\n",
       "      <td>74.0</td>\n",
       "      <td>1.0</td>\n",
       "      <td>NaN</td>\n",
       "      <td>1.0</td>\n",
       "      <td>0.0</td>\n",
       "      <td>72.0</td>\n",
       "      <td>217.0</td>\n",
       "      <td>8.0</td>\n",
       "      <td>202.0</td>\n",
       "      <td>7.0</td>\n",
       "      <td>0.0</td>\n",
       "    </tr>\n",
       "    <tr>\n",
       "      <th>1</th>\n",
       "      <td>Buckeye</td>\n",
       "      <td>55710.0</td>\n",
       "      <td>49.0</td>\n",
       "      <td>1.0</td>\n",
       "      <td>NaN</td>\n",
       "      <td>1.0</td>\n",
       "      <td>17.0</td>\n",
       "      <td>30.0</td>\n",
       "      <td>1328.0</td>\n",
       "      <td>334.0</td>\n",
       "      <td>925.0</td>\n",
       "      <td>69.0</td>\n",
       "      <td>8.0</td>\n",
       "    </tr>\n",
       "    <tr>\n",
       "      <th>2</th>\n",
       "      <td>Bullhead City</td>\n",
       "      <td>39577.0</td>\n",
       "      <td>76.0</td>\n",
       "      <td>0.0</td>\n",
       "      <td>NaN</td>\n",
       "      <td>0.0</td>\n",
       "      <td>25.0</td>\n",
       "      <td>51.0</td>\n",
       "      <td>1716.0</td>\n",
       "      <td>363.0</td>\n",
       "      <td>1252.0</td>\n",
       "      <td>101.0</td>\n",
       "      <td>11.0</td>\n",
       "    </tr>\n",
       "    <tr>\n",
       "      <th>3</th>\n",
       "      <td>Camp Verde</td>\n",
       "      <td>10942.0</td>\n",
       "      <td>33.0</td>\n",
       "      <td>0.0</td>\n",
       "      <td>NaN</td>\n",
       "      <td>2.0</td>\n",
       "      <td>0.0</td>\n",
       "      <td>31.0</td>\n",
       "      <td>259.0</td>\n",
       "      <td>57.0</td>\n",
       "      <td>185.0</td>\n",
       "      <td>17.0</td>\n",
       "      <td>0.0</td>\n",
       "    </tr>\n",
       "    <tr>\n",
       "      <th>4</th>\n",
       "      <td>Casa Grande</td>\n",
       "      <td>50058.0</td>\n",
       "      <td>229.0</td>\n",
       "      <td>5.0</td>\n",
       "      <td>NaN</td>\n",
       "      <td>12.0</td>\n",
       "      <td>57.0</td>\n",
       "      <td>155.0</td>\n",
       "      <td>1975.0</td>\n",
       "      <td>474.0</td>\n",
       "      <td>1415.0</td>\n",
       "      <td>86.0</td>\n",
       "      <td>37.0</td>\n",
       "    </tr>\n",
       "  </tbody>\n",
       "</table>\n",
       "</div>"
      ],
      "text/plain": [
       "            City  Population  Violent\\ncrime  \\\n",
       "0         Bisbee      5463.0            74.0   \n",
       "1        Buckeye     55710.0            49.0   \n",
       "2  Bullhead City     39577.0            76.0   \n",
       "3     Camp Verde     10942.0            33.0   \n",
       "4    Casa Grande     50058.0           229.0   \n",
       "\n",
       "   Murder and\\nnonnegligent\\nmanslaughter  Rape\\n(revised\\ndefinition)1  \\\n",
       "0                                     1.0                           NaN   \n",
       "1                                     1.0                           NaN   \n",
       "2                                     0.0                           NaN   \n",
       "3                                     0.0                           NaN   \n",
       "4                                     5.0                           NaN   \n",
       "\n",
       "   Rape\\n(legacy\\ndefinition)2  Robbery  Aggravated\\nassault  Property\\ncrime  \\\n",
       "0                          1.0      0.0                 72.0            217.0   \n",
       "1                          1.0     17.0                 30.0           1328.0   \n",
       "2                          0.0     25.0                 51.0           1716.0   \n",
       "3                          2.0      0.0                 31.0            259.0   \n",
       "4                         12.0     57.0                155.0           1975.0   \n",
       "\n",
       "   Burglary  Larceny-\\ntheft  Motor\\nvehicle\\ntheft  Arson  \n",
       "0       8.0            202.0                    7.0    0.0  \n",
       "1     334.0            925.0                   69.0    8.0  \n",
       "2     363.0           1252.0                  101.0   11.0  \n",
       "3      57.0            185.0                   17.0    0.0  \n",
       "4     474.0           1415.0                   86.0   37.0  "
      ]
     },
     "execution_count": 243,
     "metadata": {},
     "output_type": "execute_result"
    }
   ],
   "source": [
    "data.head()"
   ]
  },
  {
   "cell_type": "code",
   "execution_count": 244,
   "metadata": {},
   "outputs": [],
   "source": [
    "data.columns=['City','Population','Violent_crime','Murder','Rape_new','Rape',\n",
    "             'Robbery','Agg_assault','Property_crime','Burglary','Larceny', 'Car_theft',\n",
    "             'Arson']"
   ]
  },
  {
   "cell_type": "code",
   "execution_count": 245,
   "metadata": {},
   "outputs": [],
   "source": [
    "#We are going to use Murder as the binary target variable - whether there was any murders\n",
    "#or not\n",
    "data.Murder = (data.Property_crime > 0).astype(int)"
   ]
  },
  {
   "cell_type": "code",
   "execution_count": 246,
   "metadata": {},
   "outputs": [],
   "source": [
    "#City will not be useful for regression purposes and cannot turn into a numerical form\n",
    "data = data.drop(columns=['City'])"
   ]
  },
  {
   "cell_type": "code",
   "execution_count": 247,
   "metadata": {},
   "outputs": [],
   "source": [
    "#Rape (new defintion) only has 3 fields that are not NaN that correlate to Rape (old \n",
    "#definiton) only having three NaN. Using that data to fill in and condensing to one row\n",
    "data.loc[17,['Rape']] = 14\n",
    "data.loc[22,['Rape']] = 0\n",
    "data.loc[62,['Rape']] = 46\n",
    "data = data.drop(columns=['Rape_new'])"
   ]
  },
  {
   "cell_type": "code",
   "execution_count": 248,
   "metadata": {},
   "outputs": [],
   "source": [
    "#Final three rows are not actual data. Let's get rid of those\n",
    "data = data.iloc[:63,:]"
   ]
  },
  {
   "cell_type": "code",
   "execution_count": 249,
   "metadata": {},
   "outputs": [],
   "source": [
    "#We need 15 features, but only have 11 currently. Let's add a couple more\n",
    "data['Population_sq'] = data.Population**2\n",
    "#data['Burglary_by_pop'] = data.Burglary/data.Population\n",
    "#data['Violent_by_pop'] = data.Violent_crime/data.Population\n",
    "#data['Total_theft'] = data.Burglary+data.Larceny+data.Car_theft+data.Robbery\n",
    "#data['Rape_by_pop'] = data.Rape/data.Population"
   ]
  },
  {
   "cell_type": "code",
   "execution_count": 250,
   "metadata": {},
   "outputs": [
    {
     "data": {
      "text/plain": [
       "31.5"
      ]
     },
     "execution_count": 250,
     "metadata": {},
     "output_type": "execute_result"
    }
   ],
   "source": [
    "len(data)/2"
   ]
  },
  {
   "cell_type": "code",
   "execution_count": 251,
   "metadata": {},
   "outputs": [],
   "source": [
    "#Separate our Train data set from our Test data set\n",
    "Xtrain = data.drop(columns=['Property_crime']).iloc[:32,:]\n",
    "Ytrain = data.loc[:31,['Property_crime']].values.reshape(-1,1)\n",
    "Xtest = data.drop(columns=['Property_crime']).iloc[32:,:]\n",
    "Ytest = data.loc[32:,['Property_crime']].values.reshape(-1,1)"
   ]
  },
  {
   "cell_type": "code",
   "execution_count": 252,
   "metadata": {},
   "outputs": [
    {
     "data": {
      "text/plain": [
       "1.0"
      ]
     },
     "execution_count": 252,
     "metadata": {},
     "output_type": "execute_result"
    }
   ],
   "source": [
    "#Regular Linar Regression\n",
    "#Initate Model\n",
    "regr = linear_model.LinearRegression()\n",
    "#Fit to model\n",
    "regr.fit(Xtrain, Ytrain)\n",
    "#See how it does\n",
    "regr.score(Xtest, Ytest)\n",
    "\n",
    "#Leaving it with train data for now - with test data it is getting a score of above 1"
   ]
  },
  {
   "cell_type": "code",
   "execution_count": 253,
   "metadata": {},
   "outputs": [
    {
     "name": "stderr",
     "output_type": "stream",
     "text": [
      "/Library/Frameworks/Python.framework/Versions/3.6/lib/python3.6/site-packages/scipy/linalg/basic.py:40: RuntimeWarning: scipy.linalg.solve\n",
      "Ill-conditioned matrix detected. Result is not guaranteed to be accurate.\n",
      "Reciprocal condition number/precision: 2.0953551091544085e-23 / 1.1102230246251565e-16\n",
      "  RuntimeWarning)\n"
     ]
    },
    {
     "data": {
      "text/plain": [
       "0.9999999999672678"
      ]
     },
     "execution_count": 253,
     "metadata": {},
     "output_type": "execute_result"
    }
   ],
   "source": [
    "#Ridge Model\n",
    "ridgeregr = linear_model.Ridge()\n",
    "ridgeregr.fit(Xtrain,Ytrain)\n",
    "ridgeregr.score(Xtest,Ytest)"
   ]
  },
  {
   "cell_type": "code",
   "execution_count": 254,
   "metadata": {},
   "outputs": [
    {
     "data": {
      "text/plain": [
       "0.9929438645159648"
      ]
     },
     "execution_count": 254,
     "metadata": {},
     "output_type": "execute_result"
    }
   ],
   "source": [
    "#Lasso Model\n",
    "lassoregr = linear_model.Lasso()\n",
    "lassoregr.fit(Xtrain,Ytrain)\n",
    "lassoregr.score(Xtest,Ytest)"
   ]
  },
  {
   "cell_type": "markdown",
   "metadata": {},
   "source": [
    "All models have very good R2 values, however the Ordinary Linear Regression has a R2 of 1, which suggests overfitting. Because our data has a lot of consistent themes, such as theft broken up into different categories: car theft, larcency, burglary, robbery, there is likely a lot of data that is correlated and features that do not need to be included - so for this data set I believe the Lasso method is the best. It might have the lowest R2 value, which is still over 0.99, but I have the highest confidence that we removed features that were unnecessary and we weren't duplicating too much of the variance in the data and overfitting. With this dataset, less is definitely more and the R2 of 1 is highly concerning -"
   ]
  }
 ],
 "metadata": {
  "kernelspec": {
   "display_name": "Python 3",
   "language": "python",
   "name": "python3"
  },
  "language_info": {
   "codemirror_mode": {
    "name": "ipython",
    "version": 3
   },
   "file_extension": ".py",
   "mimetype": "text/x-python",
   "name": "python",
   "nbconvert_exporter": "python",
   "pygments_lexer": "ipython3",
   "version": "3.6.4"
  }
 },
 "nbformat": 4,
 "nbformat_minor": 2
}
