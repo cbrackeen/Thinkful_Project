{
 "cells": [
  {
   "cell_type": "code",
   "execution_count": 3,
   "metadata": {},
   "outputs": [],
   "source": [
    "class Node:\n",
    "    def __init__(self, val):\n",
    "        self.left = None\n",
    "        self.right = None\n",
    "        self.val = val\n",
    "    \n",
    "#Establish root\n",
    "root = Node(53)\n",
    "root.left = Node(42)\n",
    "root.right = Node(40)\n",
    "\n",
    "#Add the appropriate children\n",
    "root.left.left = Node(36)\n",
    "root.left.right = Node(25)\n",
    "root.right.left = Node(39)\n",
    "root.right.right = Node(32)\n",
    "root.left.left.left = Node(24)\n",
    "root.left.left.right = Node(35)\n",
    "root.left.right.left = Node(20)\n",
    "root.left.right.right = Node(15)\n",
    "root.right.left.left = Node(36)\n",
    "root.right.left.right = Node(28)\n",
    "root.right.right.left = Node(29)\n",
    "root.right.right.right = Node(23)"
   ]
  },
  {
   "cell_type": "code",
   "execution_count": 50,
   "metadata": {},
   "outputs": [
    {
     "name": "stdout",
     "output_type": "stream",
     "text": [
      "53\n",
      "42\n",
      "40\n",
      "36\n",
      "25\n",
      "39\n",
      "32\n",
      "24\n",
      "35\n",
      "20\n",
      "15\n",
      "36\n",
      "28\n",
      "29\n",
      "23\n"
     ]
    }
   ],
   "source": [
    "#Algorithm to traverse tree\n",
    "\n",
    "lst = []\n",
    "to_process = []\n",
    "lst.append(root.val)\n",
    "to_process.append(root)\n",
    "def travel_tree(tree):\n",
    "    \n",
    "    #initiate at the root node  \n",
    "    node = tree\n",
    "    print(node.val)\n",
    "    \n",
    "    \n",
    "    if tree.right != None and tree.left != None:\n",
    "        to_process.append(node.left)\n",
    "        to_process.append(node.right)\n",
    "    \n",
    "        lst.append(node.left.val)\n",
    "        lst.append(node.right.val)\n",
    "\n",
    "    if len(to_process) > 0:\n",
    "        to_process.remove(to_process[0])\n",
    "        \n",
    "\n",
    "while len(to_process) > 0:\n",
    "    travel_tree(to_process[0])\n",
    "    \n"
   ]
  }
 ],
 "metadata": {
  "kernelspec": {
   "display_name": "Python 3",
   "language": "python",
   "name": "python3"
  },
  "language_info": {
   "codemirror_mode": {
    "name": "ipython",
    "version": 3
   },
   "file_extension": ".py",
   "mimetype": "text/x-python",
   "name": "python",
   "nbconvert_exporter": "python",
   "pygments_lexer": "ipython3",
   "version": "3.6.4"
  }
 },
 "nbformat": 4,
 "nbformat_minor": 2
}
