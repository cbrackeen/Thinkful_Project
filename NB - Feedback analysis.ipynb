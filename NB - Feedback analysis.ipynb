{
 "cells": [
  {
   "cell_type": "code",
   "execution_count": 1,
   "metadata": {},
   "outputs": [],
   "source": [
    "%matplotlib inline\n",
    "import numpy as np\n",
    "import pandas as pd\n",
    "import scipy\n",
    "import sklearn\n",
    "import matplotlib.pyplot as plt\n",
    "import seaborn as sns"
   ]
  },
  {
   "cell_type": "code",
   "execution_count": 2,
   "metadata": {},
   "outputs": [],
   "source": [
    "data = pd.read_csv('yelp_labelled.txt', delimiter= '\\t', header=None)\n",
    "data.columns = ['review', 'positive']"
   ]
  },
  {
   "cell_type": "code",
   "execution_count": 3,
   "metadata": {},
   "outputs": [],
   "source": [
    "data.head(50);\n",
    "data['review'] = data['review'].str.lower()"
   ]
  },
  {
   "cell_type": "code",
   "execution_count": 177,
   "metadata": {},
   "outputs": [],
   "source": [
    "punc2 = [\",\",\"!\",\".\",\";\",\"?\"]"
   ]
  },
  {
   "cell_type": "code",
   "execution_count": 178,
   "metadata": {},
   "outputs": [],
   "source": [
    "for item in punc2:\n",
    "    data['review'] = data['review'].str.replace('item','')"
   ]
  },
  {
   "cell_type": "code",
   "execution_count": 4,
   "metadata": {},
   "outputs": [],
   "source": [
    "data['review'] = data['review'].str.replace(',','')\n",
    "data['review'] = data['review'].str.replace('!','')\n",
    "data['review'] = data['review'].str.replace('.','')"
   ]
  },
  {
   "cell_type": "code",
   "execution_count": 5,
   "metadata": {},
   "outputs": [],
   "source": [
    "pos_words = ['love', 'loved', 'great', 'best', 'amazing']"
   ]
  },
  {
   "cell_type": "code",
   "execution_count": 6,
   "metadata": {},
   "outputs": [],
   "source": [
    "bad_words = ['damn','stupid']"
   ]
  },
  {
   "cell_type": "code",
   "execution_count": 7,
   "metadata": {},
   "outputs": [],
   "source": [
    "neg_words = ['poor', 'horrible','terrible','bad'\n",
    "             ,'mean','nasty','not']"
   ]
  },
  {
   "cell_type": "code",
   "execution_count": 61,
   "metadata": {},
   "outputs": [],
   "source": [
    "def add_columns(list, data):\n",
    "    for word in list:\n",
    "        data[str(word)] = data.review.str.contains(str(word)+' ')"
   ]
  },
  {
   "cell_type": "code",
   "execution_count": 62,
   "metadata": {},
   "outputs": [],
   "source": [
    "def add_columns_nospace(list, data):\n",
    "    for word in list:\n",
    "        data[str(word)] = data.review.str.contains(str(word))"
   ]
  },
  {
   "cell_type": "code",
   "execution_count": 63,
   "metadata": {},
   "outputs": [],
   "source": [
    "add_columns(pos_words, data)\n",
    "add_columns(neg_words, data)\n",
    "add_columns(bad_words, data)"
   ]
  },
  {
   "cell_type": "code",
   "execution_count": 11,
   "metadata": {},
   "outputs": [],
   "source": [
    "#data['positive'] = (data['positive'] == 1)"
   ]
  },
  {
   "cell_type": "code",
   "execution_count": 12,
   "metadata": {},
   "outputs": [
    {
     "data": {
      "text/plain": [
       "<matplotlib.axes._subplots.AxesSubplot at 0x113cba4e0>"
      ]
     },
     "execution_count": 12,
     "metadata": {},
     "output_type": "execute_result"
    },
    {
     "data": {
      "image/png": "[encoded data removed]",
      "text/plain": [
       "<Figure size 432x288 with 2 Axes>"
      ]
     },
     "metadata": {},
     "output_type": "display_data"
    }
   ],
   "source": [
    "sns.heatmap(data.corr())"
   ]
  },
  {
   "cell_type": "code",
   "execution_count": 30,
   "metadata": {},
   "outputs": [],
   "source": [
    "#Potential items to remove: fuck, bitch, cunt, shit, asshole, hell, piss, horrid, gross"
   ]
  },
  {
   "cell_type": "code",
   "execution_count": 13,
   "metadata": {},
   "outputs": [],
   "source": [
    "items = data[pos_words+ neg_words+ bad_words]\n",
    "target = data['positive']"
   ]
  },
  {
   "cell_type": "code",
   "execution_count": 93,
   "metadata": {},
   "outputs": [],
   "source": [
    "from sklearn.naive_bayes import BernoulliNB\n",
    "\n",
    "def bern_predict(item, targett):\n",
    "    bnb = BernoulliNB()\n",
    "    bnb.fit(item, targett)\n",
    "    y_pred = bnb.predict(item)\n",
    "\n",
    "    # Display our results.\n",
    "    print(\"Number of mislabeled points out of a total {} points : {}\".format(\n",
    "    item.shape[0],\n",
    "    (targett != y_pred).sum()\n",
    "    ))\n",
    "    return y_pred"
   ]
  },
  {
   "cell_type": "code",
   "execution_count": 16,
   "metadata": {},
   "outputs": [
    {
     "name": "stdout",
     "output_type": "stream",
     "text": [
      "Number of mislabeled points out of a total 1000 points : 395\n"
     ]
    }
   ],
   "source": [
    "bern_predict(items, target);"
   ]
  },
  {
   "cell_type": "code",
   "execution_count": 17,
   "metadata": {},
   "outputs": [
    {
     "name": "stdout",
     "output_type": "stream",
     "text": [
      "Number of mislabeled points out of a total 1000 points : 401\n"
     ]
    }
   ],
   "source": [
    "from sklearn.naive_bayes import MultinomialNB\n",
    "\n",
    "mnb = MultinomialNB()\n",
    "y_pred = mnb.fit(items, target).predict(items)\n",
    "\n",
    "# Display our results.\n",
    "print(\"Number of mislabeled points out of a total {} points : {}\".format(\n",
    "    items.shape[0],\n",
    "    (target != y_pred).sum()\n",
    "))"
   ]
  },
  {
   "cell_type": "code",
   "execution_count": 18,
   "metadata": {},
   "outputs": [
    {
     "name": "stdout",
     "output_type": "stream",
     "text": [
      "Number of mislabeled points out of a total 1000 points : 468\n"
     ]
    }
   ],
   "source": [
    "from sklearn.naive_bayes import GaussianNB\n",
    "\n",
    "gnb = GaussianNB()\n",
    "y_pred = gnb.fit(items, target).predict(items)\n",
    "\n",
    "# Display our results.\n",
    "print(\"Number of mislabeled points out of a total {} points : {}\".format(\n",
    "    items.shape[0],\n",
    "    (target != y_pred).sum()\n",
    "))"
   ]
  },
  {
   "cell_type": "code",
   "execution_count": 49,
   "metadata": {},
   "outputs": [],
   "source": [
    "#Definitely sticking with the Bernoulli model, but we are not looking too \n",
    "#hot w/ prediction.\n",
    "#Let's remove some of those interacting words\n",
    "# Keeping: 'shit', 'horrid', 'gross'\n",
    "data = data.drop(columns = ['fuck', 'bitch', 'cunt', 'asshole', 'hell', 'piss'])"
   ]
  },
  {
   "cell_type": "code",
   "execution_count": 110,
   "metadata": {},
   "outputs": [
    {
     "data": {
      "text/plain": [
       "<matplotlib.axes._subplots.AxesSubplot at 0x116a8f710>"
      ]
     },
     "execution_count": 110,
     "metadata": {},
     "output_type": "execute_result"
    },
    {
     "data": {
      "image/png": "[encoded data removed]",
      "text/plain": [
       "<Figure size 432x288 with 2 Axes>"
      ]
     },
     "metadata": {},
     "output_type": "display_data"
    }
   ],
   "source": [
    "#Still looks like they might be worth dropping\n",
    "sns.heatmap(data.corr())"
   ]
  },
  {
   "cell_type": "code",
   "execution_count": 19,
   "metadata": {},
   "outputs": [],
   "source": [
    "items2 = data[pos_words+ ['damn', 'stupid'] + neg_words]"
   ]
  },
  {
   "cell_type": "code",
   "execution_count": 21,
   "metadata": {},
   "outputs": [
    {
     "name": "stdout",
     "output_type": "stream",
     "text": [
      "Number of mislabeled points out of a total 1000 points : 395\n"
     ]
    }
   ],
   "source": [
    "bern_predict(items2, target);"
   ]
  },
  {
   "cell_type": "code",
   "execution_count": 74,
   "metadata": {},
   "outputs": [],
   "source": [
    "#Didn't get worse, but didn't get better either, let's kill the other values\n",
    "data = data.drop(columns=['horrid','gross'])"
   ]
  },
  {
   "cell_type": "code",
   "execution_count": 75,
   "metadata": {},
   "outputs": [],
   "source": [
    "neg_words.remove('horrid')\n",
    "neg_words.remove('gross')"
   ]
  },
  {
   "cell_type": "code",
   "execution_count": 23,
   "metadata": {},
   "outputs": [],
   "source": [
    "item3 = data[pos_words+ ['damn','stupid'] + neg_words]"
   ]
  },
  {
   "cell_type": "code",
   "execution_count": 24,
   "metadata": {},
   "outputs": [
    {
     "name": "stdout",
     "output_type": "stream",
     "text": [
      "Number of mislabeled points out of a total 1000 points : 395\n"
     ]
    }
   ],
   "source": [
    "y3_pred = bern_predict(item3, target)"
   ]
  },
  {
   "cell_type": "code",
   "execution_count": 91,
   "metadata": {},
   "outputs": [],
   "source": [
    "data.loc[data['positive'] != y3_pred, ['review','positive']];"
   ]
  },
  {
   "cell_type": "code",
   "execution_count": 25,
   "metadata": {},
   "outputs": [
    {
     "name": "stdout",
     "output_type": "stream",
     "text": [
      "Number of mislabeled points out of a total 1000 points : 395\n"
     ]
    }
   ],
   "source": [
    "x1 = bern_predict(item3, target)"
   ]
  },
  {
   "cell_type": "code",
   "execution_count": 26,
   "metadata": {},
   "outputs": [
    {
     "name": "stdout",
     "output_type": "stream",
     "text": [
      "Number of mislabeled points out of a total 1000 points : 395\n"
     ]
    }
   ],
   "source": [
    "item4 = data[pos_words+bad_words+neg_words]\n",
    "x2 = bern_predict(item4, target)"
   ]
  },
  {
   "cell_type": "code",
   "execution_count": 28,
   "metadata": {},
   "outputs": [],
   "source": [
    "data.head();"
   ]
  },
  {
   "cell_type": "code",
   "execution_count": 29,
   "metadata": {},
   "outputs": [],
   "source": [
    "#Only increase by 2 rows, we can do better than that!\n",
    "negation = ['not', 'no',\"n't\"]\n",
    "feeling = ['hate','underwhelmed','impressed','wasted', 'great']"
   ]
  },
  {
   "cell_type": "code",
   "execution_count": 64,
   "metadata": {},
   "outputs": [],
   "source": [
    "add_columns_nospace(negation, data)\n",
    "add_columns(feeling, data)"
   ]
  },
  {
   "cell_type": "code",
   "execution_count": 31,
   "metadata": {},
   "outputs": [
    {
     "name": "stdout",
     "output_type": "stream",
     "text": [
      "Number of mislabeled points out of a total 1000 points : 325\n"
     ]
    }
   ],
   "source": [
    "item5 = data[pos_words+bad_words+neg_words+negation+feeling]\n",
    "x3 = bern_predict(item5, target)"
   ]
  },
  {
   "cell_type": "code",
   "execution_count": 37,
   "metadata": {},
   "outputs": [],
   "source": [
    "taste = ['rubber','tar','heaven','delicious','burnt','wonderful','blah','meh',\n",
    "        'appalling', 'bland', 'dry']\n",
    "extreme = ['best', 'worst','never','always','old','new']"
   ]
  },
  {
   "cell_type": "code",
   "execution_count": 65,
   "metadata": {},
   "outputs": [],
   "source": [
    "add_columns_nospace(taste, data)\n",
    "add_columns_nospace(extreme, data)"
   ]
  },
  {
   "cell_type": "code",
   "execution_count": 66,
   "metadata": {},
   "outputs": [
    {
     "name": "stdout",
     "output_type": "stream",
     "text": [
      "Number of mislabeled points out of a total 1000 points : 278\n"
     ]
    }
   ],
   "source": [
    "item6 = data[pos_words+bad_words+neg_words+negation+feeling+taste+extreme]\n",
    "target = data['positive']\n",
    "x4=bern_predict(item6, target)"
   ]
  },
  {
   "cell_type": "code",
   "execution_count": 54,
   "metadata": {},
   "outputs": [],
   "source": [
    "service = ['speedy','quick','slow','lazy', 'fantastic', 'mediocre', 'spotty','average'\n",
    "          ,'rude', 'disappoint']\n",
    "rating = ['thumbs down', 'thumb down', 'thumbs up','five stars', 'no stars']"
   ]
  },
  {
   "cell_type": "code",
   "execution_count": 67,
   "metadata": {},
   "outputs": [],
   "source": [
    "add_columns_nospace(service, data)\n",
    "add_columns_nospace(rating, data)"
   ]
  },
  {
   "cell_type": "code",
   "execution_count": 56,
   "metadata": {},
   "outputs": [],
   "source": [
    "attributes = pos_words+bad_words+neg_words+negation+feeling+taste+extreme+service+rating"
   ]
  },
  {
   "cell_type": "code",
   "execution_count": 57,
   "metadata": {},
   "outputs": [
    {
     "name": "stdout",
     "output_type": "stream",
     "text": [
      "Number of mislabeled points out of a total 1000 points : 240\n"
     ]
    }
   ],
   "source": [
    "item7 = data[attributes]\n",
    "target = data['positive']\n",
    "x5=bern_predict(item7, target)"
   ]
  },
  {
   "cell_type": "code",
   "execution_count": 58,
   "metadata": {},
   "outputs": [
    {
     "data": {
      "text/html": [
       "<div>\n",
       "<style scoped>\n",
       "    .dataframe tbody tr th:only-of-type {\n",
       "        vertical-align: middle;\n",
       "    }\n",
       "\n",
       "    .dataframe tbody tr th {\n",
       "        vertical-align: top;\n",
       "    }\n",
       "\n",
       "    .dataframe thead th {\n",
       "        text-align: right;\n",
       "    }\n",
       "</style>\n",
       "<table border=\"1\" class=\"dataframe\">\n",
       "  <thead>\n",
       "    <tr style=\"text-align: right;\">\n",
       "      <th></th>\n",
       "      <th>review</th>\n",
       "      <th>positive</th>\n",
       "    </tr>\n",
       "  </thead>\n",
       "  <tbody>\n",
       "    <tr>\n",
       "      <th>14</th>\n",
       "      <td>i was disgusted because i was pretty sure that...</td>\n",
       "      <td>False</td>\n",
       "    </tr>\n",
       "    <tr>\n",
       "      <th>28</th>\n",
       "      <td>took an hour to get our food only 4 tables in ...</td>\n",
       "      <td>False</td>\n",
       "    </tr>\n",
       "    <tr>\n",
       "      <th>31</th>\n",
       "      <td>this was like the final blow</td>\n",
       "      <td>False</td>\n",
       "    </tr>\n",
       "    <tr>\n",
       "      <th>32</th>\n",
       "      <td>i found this place by accident and i could not...</td>\n",
       "      <td>True</td>\n",
       "    </tr>\n",
       "    <tr>\n",
       "      <th>33</th>\n",
       "      <td>seems like a good quick place to grab a bite o...</td>\n",
       "      <td>False</td>\n",
       "    </tr>\n",
       "    <tr>\n",
       "      <th>39</th>\n",
       "      <td>service sucks</td>\n",
       "      <td>False</td>\n",
       "    </tr>\n",
       "    <tr>\n",
       "      <th>56</th>\n",
       "      <td>the heart attack grill in downtown vegas is an...</td>\n",
       "      <td>False</td>\n",
       "    </tr>\n",
       "    <tr>\n",
       "      <th>58</th>\n",
       "      <td>the salad had just the right amount of sauce t...</td>\n",
       "      <td>True</td>\n",
       "    </tr>\n",
       "    <tr>\n",
       "      <th>60</th>\n",
       "      <td>at least think to refill my water before i str...</td>\n",
       "      <td>False</td>\n",
       "    </tr>\n",
       "    <tr>\n",
       "      <th>79</th>\n",
       "      <td>there is so much good food in vegas that i fee...</td>\n",
       "      <td>False</td>\n",
       "    </tr>\n",
       "    <tr>\n",
       "      <th>94</th>\n",
       "      <td>say bye bye to your tip lady</td>\n",
       "      <td>False</td>\n",
       "    </tr>\n",
       "    <tr>\n",
       "      <th>100</th>\n",
       "      <td>our server was fantastic and when he found out...</td>\n",
       "      <td>True</td>\n",
       "    </tr>\n",
       "    <tr>\n",
       "      <th>102</th>\n",
       "      <td>best buffet in town for the price you cannot b...</td>\n",
       "      <td>True</td>\n",
       "    </tr>\n",
       "    <tr>\n",
       "      <th>116</th>\n",
       "      <td>it was pretty gross</td>\n",
       "      <td>False</td>\n",
       "    </tr>\n",
       "    <tr>\n",
       "      <th>117</th>\n",
       "      <td>i've had better atmosphere</td>\n",
       "      <td>False</td>\n",
       "    </tr>\n",
       "    <tr>\n",
       "      <th>118</th>\n",
       "      <td>kind of hard to mess up a steak but they did</td>\n",
       "      <td>False</td>\n",
       "    </tr>\n",
       "    <tr>\n",
       "      <th>125</th>\n",
       "      <td>host staff were for lack of a better word bitches</td>\n",
       "      <td>False</td>\n",
       "    </tr>\n",
       "    <tr>\n",
       "      <th>127</th>\n",
       "      <td>phenomenal food service and ambiance</td>\n",
       "      <td>True</td>\n",
       "    </tr>\n",
       "    <tr>\n",
       "      <th>152</th>\n",
       "      <td>we waited for forty five minutes in vain</td>\n",
       "      <td>False</td>\n",
       "    </tr>\n",
       "    <tr>\n",
       "      <th>153</th>\n",
       "      <td>crostini that came with the salad was stale</td>\n",
       "      <td>False</td>\n",
       "    </tr>\n",
       "    <tr>\n",
       "      <th>159</th>\n",
       "      <td>unfortunately we must have hit the bakery on l...</td>\n",
       "      <td>False</td>\n",
       "    </tr>\n",
       "    <tr>\n",
       "      <th>163</th>\n",
       "      <td>avoid at all cost</td>\n",
       "      <td>False</td>\n",
       "    </tr>\n",
       "    <tr>\n",
       "      <th>170</th>\n",
       "      <td>we also ordered the spinach and avocado salad;...</td>\n",
       "      <td>False</td>\n",
       "    </tr>\n",
       "    <tr>\n",
       "      <th>171</th>\n",
       "      <td>this really is how vegas fine dining used to b...</td>\n",
       "      <td>True</td>\n",
       "    </tr>\n",
       "    <tr>\n",
       "      <th>173</th>\n",
       "      <td>lordy the khao soi is a dish that is not to be...</td>\n",
       "      <td>True</td>\n",
       "    </tr>\n",
       "    <tr>\n",
       "      <th>176</th>\n",
       "      <td>the service here leaves a lot to be desired</td>\n",
       "      <td>False</td>\n",
       "    </tr>\n",
       "    <tr>\n",
       "      <th>178</th>\n",
       "      <td>not a weekly haunt but definitely a place to c...</td>\n",
       "      <td>True</td>\n",
       "    </tr>\n",
       "    <tr>\n",
       "      <th>183</th>\n",
       "      <td>it was probably dirt</td>\n",
       "      <td>False</td>\n",
       "    </tr>\n",
       "    <tr>\n",
       "      <th>184</th>\n",
       "      <td>love this place hits the spot when i want some...</td>\n",
       "      <td>True</td>\n",
       "    </tr>\n",
       "    <tr>\n",
       "      <th>186</th>\n",
       "      <td>the food sucked which we expected but it sucke...</td>\n",
       "      <td>False</td>\n",
       "    </tr>\n",
       "    <tr>\n",
       "      <th>...</th>\n",
       "      <td>...</td>\n",
       "      <td>...</td>\n",
       "    </tr>\n",
       "    <tr>\n",
       "      <th>911</th>\n",
       "      <td>very very sad</td>\n",
       "      <td>False</td>\n",
       "    </tr>\n",
       "    <tr>\n",
       "      <th>917</th>\n",
       "      <td>i got food poisoning here at the buffet</td>\n",
       "      <td>False</td>\n",
       "    </tr>\n",
       "    <tr>\n",
       "      <th>919</th>\n",
       "      <td>what should have been a hilarious yummy christ...</td>\n",
       "      <td>False</td>\n",
       "    </tr>\n",
       "    <tr>\n",
       "      <th>921</th>\n",
       "      <td>this place is disgusting</td>\n",
       "      <td>False</td>\n",
       "    </tr>\n",
       "    <tr>\n",
       "      <th>923</th>\n",
       "      <td>the ri style calamari was a joke</td>\n",
       "      <td>False</td>\n",
       "    </tr>\n",
       "    <tr>\n",
       "      <th>924</th>\n",
       "      <td>however there was so much garlic in the fondue...</td>\n",
       "      <td>False</td>\n",
       "    </tr>\n",
       "    <tr>\n",
       "      <th>927</th>\n",
       "      <td>it also took her forever to bring us the check...</td>\n",
       "      <td>False</td>\n",
       "    </tr>\n",
       "    <tr>\n",
       "      <th>928</th>\n",
       "      <td>we aren't ones to make a scene at restaurants ...</td>\n",
       "      <td>False</td>\n",
       "    </tr>\n",
       "    <tr>\n",
       "      <th>932</th>\n",
       "      <td>waaaaaayyyyyyyyyy over rated is all i am saying</td>\n",
       "      <td>False</td>\n",
       "    </tr>\n",
       "    <tr>\n",
       "      <th>935</th>\n",
       "      <td>this place lacked style</td>\n",
       "      <td>False</td>\n",
       "    </tr>\n",
       "    <tr>\n",
       "      <th>936</th>\n",
       "      <td>the sangria was about half of a glass wine ful...</td>\n",
       "      <td>False</td>\n",
       "    </tr>\n",
       "    <tr>\n",
       "      <th>940</th>\n",
       "      <td>it was equally awful</td>\n",
       "      <td>False</td>\n",
       "    </tr>\n",
       "    <tr>\n",
       "      <th>949</th>\n",
       "      <td>maybe it's just their vegetarian fare but i've...</td>\n",
       "      <td>False</td>\n",
       "    </tr>\n",
       "    <tr>\n",
       "      <th>959</th>\n",
       "      <td>the only reason to eat here would be to fill u...</td>\n",
       "      <td>False</td>\n",
       "    </tr>\n",
       "    <tr>\n",
       "      <th>960</th>\n",
       "      <td>insults profound deuchebaggery and had to go o...</td>\n",
       "      <td>False</td>\n",
       "    </tr>\n",
       "    <tr>\n",
       "      <th>968</th>\n",
       "      <td>we've have gotten a much better service from t...</td>\n",
       "      <td>False</td>\n",
       "    </tr>\n",
       "    <tr>\n",
       "      <th>972</th>\n",
       "      <td>unfortunately it only set us up for disapppoin...</td>\n",
       "      <td>False</td>\n",
       "    </tr>\n",
       "    <tr>\n",
       "      <th>974</th>\n",
       "      <td>your servers suck wait correction our server h...</td>\n",
       "      <td>False</td>\n",
       "    </tr>\n",
       "    <tr>\n",
       "      <th>975</th>\n",
       "      <td>what happened next was prettyoff putting</td>\n",
       "      <td>False</td>\n",
       "    </tr>\n",
       "    <tr>\n",
       "      <th>977</th>\n",
       "      <td>overpriced for what you are getting</td>\n",
       "      <td>False</td>\n",
       "    </tr>\n",
       "    <tr>\n",
       "      <th>978</th>\n",
       "      <td>i vomited in the bathroom mid lunch</td>\n",
       "      <td>False</td>\n",
       "    </tr>\n",
       "    <tr>\n",
       "      <th>983</th>\n",
       "      <td>it sure does beat the nachos at the movies but...</td>\n",
       "      <td>False</td>\n",
       "    </tr>\n",
       "    <tr>\n",
       "      <th>984</th>\n",
       "      <td>all in all ha long bay was a bit of a flop</td>\n",
       "      <td>False</td>\n",
       "    </tr>\n",
       "    <tr>\n",
       "      <th>989</th>\n",
       "      <td>i would avoid this place if you are staying in...</td>\n",
       "      <td>False</td>\n",
       "    </tr>\n",
       "    <tr>\n",
       "      <th>991</th>\n",
       "      <td>spend your money and time some place else</td>\n",
       "      <td>False</td>\n",
       "    </tr>\n",
       "    <tr>\n",
       "      <th>992</th>\n",
       "      <td>a lady at the table next to us found a live gr...</td>\n",
       "      <td>False</td>\n",
       "    </tr>\n",
       "    <tr>\n",
       "      <th>993</th>\n",
       "      <td>the presentation of the food was awful</td>\n",
       "      <td>False</td>\n",
       "    </tr>\n",
       "    <tr>\n",
       "      <th>995</th>\n",
       "      <td>i think food should have flavor and texture an...</td>\n",
       "      <td>False</td>\n",
       "    </tr>\n",
       "    <tr>\n",
       "      <th>996</th>\n",
       "      <td>appetite instantly gone</td>\n",
       "      <td>False</td>\n",
       "    </tr>\n",
       "    <tr>\n",
       "      <th>998</th>\n",
       "      <td>the whole experience was underwhelming and i t...</td>\n",
       "      <td>False</td>\n",
       "    </tr>\n",
       "  </tbody>\n",
       "</table>\n",
       "<p>240 rows × 2 columns</p>\n",
       "</div>"
      ],
      "text/plain": [
       "                                                review  positive\n",
       "14   i was disgusted because i was pretty sure that...     False\n",
       "28   took an hour to get our food only 4 tables in ...     False\n",
       "31                        this was like the final blow     False\n",
       "32   i found this place by accident and i could not...      True\n",
       "33   seems like a good quick place to grab a bite o...     False\n",
       "39                                       service sucks     False\n",
       "56   the heart attack grill in downtown vegas is an...     False\n",
       "58   the salad had just the right amount of sauce t...      True\n",
       "60   at least think to refill my water before i str...     False\n",
       "79   there is so much good food in vegas that i fee...     False\n",
       "94                        say bye bye to your tip lady     False\n",
       "100  our server was fantastic and when he found out...      True\n",
       "102  best buffet in town for the price you cannot b...      True\n",
       "116                                it was pretty gross     False\n",
       "117                         i've had better atmosphere     False\n",
       "118       kind of hard to mess up a steak but they did     False\n",
       "125  host staff were for lack of a better word bitches     False\n",
       "127               phenomenal food service and ambiance      True\n",
       "152           we waited for forty five minutes in vain     False\n",
       "153        crostini that came with the salad was stale     False\n",
       "159  unfortunately we must have hit the bakery on l...     False\n",
       "163                                  avoid at all cost     False\n",
       "170  we also ordered the spinach and avocado salad;...     False\n",
       "171  this really is how vegas fine dining used to b...      True\n",
       "173  lordy the khao soi is a dish that is not to be...      True\n",
       "176        the service here leaves a lot to be desired     False\n",
       "178  not a weekly haunt but definitely a place to c...      True\n",
       "183                               it was probably dirt     False\n",
       "184  love this place hits the spot when i want some...      True\n",
       "186  the food sucked which we expected but it sucke...     False\n",
       "..                                                 ...       ...\n",
       "911                                      very very sad     False\n",
       "917            i got food poisoning here at the buffet     False\n",
       "919  what should have been a hilarious yummy christ...     False\n",
       "921                           this place is disgusting     False\n",
       "923                   the ri style calamari was a joke     False\n",
       "924  however there was so much garlic in the fondue...     False\n",
       "927  it also took her forever to bring us the check...     False\n",
       "928  we aren't ones to make a scene at restaurants ...     False\n",
       "932    waaaaaayyyyyyyyyy over rated is all i am saying     False\n",
       "935                            this place lacked style     False\n",
       "936  the sangria was about half of a glass wine ful...     False\n",
       "940                               it was equally awful     False\n",
       "949  maybe it's just their vegetarian fare but i've...     False\n",
       "959  the only reason to eat here would be to fill u...     False\n",
       "960  insults profound deuchebaggery and had to go o...     False\n",
       "968  we've have gotten a much better service from t...     False\n",
       "972  unfortunately it only set us up for disapppoin...     False\n",
       "974  your servers suck wait correction our server h...     False\n",
       "975           what happened next was prettyoff putting     False\n",
       "977                overpriced for what you are getting     False\n",
       "978                i vomited in the bathroom mid lunch     False\n",
       "983  it sure does beat the nachos at the movies but...     False\n",
       "984         all in all ha long bay was a bit of a flop     False\n",
       "989  i would avoid this place if you are staying in...     False\n",
       "991          spend your money and time some place else     False\n",
       "992  a lady at the table next to us found a live gr...     False\n",
       "993             the presentation of the food was awful     False\n",
       "995  i think food should have flavor and texture an...     False\n",
       "996                            appetite instantly gone     False\n",
       "998  the whole experience was underwhelming and i t...     False\n",
       "\n",
       "[240 rows x 2 columns]"
      ]
     },
     "execution_count": 58,
     "metadata": {},
     "output_type": "execute_result"
    }
   ],
   "source": [
    "data.loc[data['positive'] != x5, ['review','positive']]"
   ]
  },
  {
   "cell_type": "code",
   "execution_count": 84,
   "metadata": {},
   "outputs": [],
   "source": [
    "data_imdb = pd.read_csv('imdb_labelled.txt', delimiter= '\\t', header=None)\n",
    "data_imdb.columns = ['review', 'positive']"
   ]
  },
  {
   "cell_type": "code",
   "execution_count": 90,
   "metadata": {},
   "outputs": [
    {
     "name": "stdout",
     "output_type": "stream",
     "text": [
      "748\n",
      "748\n",
      "748\n"
     ]
    }
   ],
   "source": [
    "print(len(data_imdb))\n",
    "print(len(data_imdb_test))\n",
    "print(len(target_imdb))"
   ]
  },
  {
   "cell_type": "code",
   "execution_count": 86,
   "metadata": {},
   "outputs": [],
   "source": [
    "for a in [pos_words,bad_words,neg_words,negation,feeling,taste,extreme\n",
    "             ,service,rating]:\n",
    "    add_columns_nospace(a, data_imdb)"
   ]
  },
  {
   "cell_type": "code",
   "execution_count": 91,
   "metadata": {},
   "outputs": [],
   "source": [
    "data_imdb_test = data_imdb[attributes]\n",
    "target_imdb = data_imdb['positive']\n"
   ]
  },
  {
   "cell_type": "code",
   "execution_count": 94,
   "metadata": {},
   "outputs": [
    {
     "name": "stdout",
     "output_type": "stream",
     "text": [
      "Number of mislabeled points out of a total 748 points : 223\n"
     ]
    }
   ],
   "source": [
    "y1 = bern_predict(data_imdb_test, target_imdb)"
   ]
  },
  {
   "cell_type": "code",
   "execution_count": 99,
   "metadata": {},
   "outputs": [],
   "source": [
    "data_amazon = pd.read_csv('amazon_cells_labelled.txt', delimiter= '\\t', header=None)\n",
    "data_amazon.columns=['review','positive']"
   ]
  },
  {
   "cell_type": "code",
   "execution_count": 100,
   "metadata": {},
   "outputs": [
    {
     "data": {
      "text/html": [
       "<div>\n",
       "<style scoped>\n",
       "    .dataframe tbody tr th:only-of-type {\n",
       "        vertical-align: middle;\n",
       "    }\n",
       "\n",
       "    .dataframe tbody tr th {\n",
       "        vertical-align: top;\n",
       "    }\n",
       "\n",
       "    .dataframe thead th {\n",
       "        text-align: right;\n",
       "    }\n",
       "</style>\n",
       "<table border=\"1\" class=\"dataframe\">\n",
       "  <thead>\n",
       "    <tr style=\"text-align: right;\">\n",
       "      <th></th>\n",
       "      <th>review</th>\n",
       "      <th>positive</th>\n",
       "    </tr>\n",
       "  </thead>\n",
       "  <tbody>\n",
       "    <tr>\n",
       "      <th>0</th>\n",
       "      <td>So there is no way for me to plug it in here i...</td>\n",
       "      <td>0</td>\n",
       "    </tr>\n",
       "    <tr>\n",
       "      <th>1</th>\n",
       "      <td>Good case, Excellent value.</td>\n",
       "      <td>1</td>\n",
       "    </tr>\n",
       "    <tr>\n",
       "      <th>2</th>\n",
       "      <td>Great for the jawbone.</td>\n",
       "      <td>1</td>\n",
       "    </tr>\n",
       "    <tr>\n",
       "      <th>3</th>\n",
       "      <td>Tied to charger for conversations lasting more...</td>\n",
       "      <td>0</td>\n",
       "    </tr>\n",
       "    <tr>\n",
       "      <th>4</th>\n",
       "      <td>The mic is great.</td>\n",
       "      <td>1</td>\n",
       "    </tr>\n",
       "  </tbody>\n",
       "</table>\n",
       "</div>"
      ],
      "text/plain": [
       "                                              review  positive\n",
       "0  So there is no way for me to plug it in here i...         0\n",
       "1                        Good case, Excellent value.         1\n",
       "2                             Great for the jawbone.         1\n",
       "3  Tied to charger for conversations lasting more...         0\n",
       "4                                  The mic is great.         1"
      ]
     },
     "execution_count": 100,
     "metadata": {},
     "output_type": "execute_result"
    }
   ],
   "source": [
    "data_amazon.head()"
   ]
  },
  {
   "cell_type": "code",
   "execution_count": 101,
   "metadata": {},
   "outputs": [],
   "source": [
    "for a in [pos_words,bad_words,neg_words,negation,feeling,taste,extreme\n",
    "             ,service,rating]:\n",
    "    add_columns_nospace(a, data_amazon)"
   ]
  },
  {
   "cell_type": "code",
   "execution_count": 102,
   "metadata": {},
   "outputs": [],
   "source": [
    "data_ama_test = data_amazon[attributes]\n",
    "target_ama = data_amazon['positive']"
   ]
  },
  {
   "cell_type": "code",
   "execution_count": 103,
   "metadata": {},
   "outputs": [
    {
     "name": "stdout",
     "output_type": "stream",
     "text": [
      "Number of mislabeled points out of a total 1000 points : 326\n"
     ]
    }
   ],
   "source": [
    "z1 = bern_predict(data_ama_test, target_ama)"
   ]
  },
  {
   "cell_type": "code",
   "execution_count": null,
   "metadata": {},
   "outputs": [],
   "source": []
  }
 ],
 "metadata": {
  "kernelspec": {
   "display_name": "Python 3",
   "language": "python",
   "name": "python3"
  },
  "language_info": {
   "codemirror_mode": {
    "name": "ipython",
    "version": 3
   },
   "file_extension": ".py",
   "mimetype": "text/x-python",
   "name": "python",
   "nbconvert_exporter": "python",
   "pygments_lexer": "ipython3",
   "version": "3.6.4"
  }
 },
 "nbformat": 4,
 "nbformat_minor": 2
}
