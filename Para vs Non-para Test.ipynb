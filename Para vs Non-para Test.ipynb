{
 "cells": [
  {
   "cell_type": "code",
   "execution_count": 25,
   "metadata": {},
   "outputs": [],
   "source": [
    "import pandas as pd\n",
    "import numpy as np\n",
    "import matplotlib.pyplot as plt\n",
    "import scipy.stats as stats\n",
    "from statsmodels.stats.multicomp import pairwise_tukeyhsd\n",
    "from \n",
    "%matplotlib inline"
   ]
  },
  {
   "cell_type": "code",
   "execution_count": 274,
   "metadata": {},
   "outputs": [],
   "source": [
    "data = pd.read_csv('ESSdata_Thinkful.csv')"
   ]
  },
  {
   "cell_type": "code",
   "execution_count": 275,
   "metadata": {},
   "outputs": [],
   "source": [
    "def replace_year(x):\n",
    "    if x == 7:\n",
    "        return 2014\n",
    "    if x == 6:\n",
    "        return 2012\n",
    "    \n",
    "data.year = data.year.map(lambda x: replace_year(x))"
   ]
  },
  {
   "cell_type": "code",
   "execution_count": 276,
   "metadata": {},
   "outputs": [
    {
     "data": {
      "text/html": [
       "<div>\n",
       "<style scoped>\n",
       "    .dataframe tbody tr th:only-of-type {\n",
       "        vertical-align: middle;\n",
       "    }\n",
       "\n",
       "    .dataframe tbody tr th {\n",
       "        vertical-align: top;\n",
       "    }\n",
       "\n",
       "    .dataframe thead th {\n",
       "        text-align: right;\n",
       "    }\n",
       "</style>\n",
       "<table border=\"1\" class=\"dataframe\">\n",
       "  <thead>\n",
       "    <tr style=\"text-align: right;\">\n",
       "      <th></th>\n",
       "      <th>cntry</th>\n",
       "      <th>idno</th>\n",
       "      <th>year</th>\n",
       "      <th>tvtot</th>\n",
       "      <th>ppltrst</th>\n",
       "      <th>pplfair</th>\n",
       "      <th>pplhlp</th>\n",
       "      <th>happy</th>\n",
       "      <th>sclmeet</th>\n",
       "      <th>sclact</th>\n",
       "      <th>gndr</th>\n",
       "      <th>agea</th>\n",
       "      <th>partner</th>\n",
       "    </tr>\n",
       "  </thead>\n",
       "  <tbody>\n",
       "    <tr>\n",
       "      <th>0</th>\n",
       "      <td>CH</td>\n",
       "      <td>5.0</td>\n",
       "      <td>2012</td>\n",
       "      <td>3.0</td>\n",
       "      <td>3.0</td>\n",
       "      <td>10.0</td>\n",
       "      <td>5.0</td>\n",
       "      <td>8.0</td>\n",
       "      <td>5.0</td>\n",
       "      <td>4.0</td>\n",
       "      <td>2.0</td>\n",
       "      <td>60.0</td>\n",
       "      <td>1.0</td>\n",
       "    </tr>\n",
       "    <tr>\n",
       "      <th>1</th>\n",
       "      <td>CH</td>\n",
       "      <td>25.0</td>\n",
       "      <td>2012</td>\n",
       "      <td>6.0</td>\n",
       "      <td>5.0</td>\n",
       "      <td>7.0</td>\n",
       "      <td>5.0</td>\n",
       "      <td>9.0</td>\n",
       "      <td>3.0</td>\n",
       "      <td>2.0</td>\n",
       "      <td>2.0</td>\n",
       "      <td>59.0</td>\n",
       "      <td>1.0</td>\n",
       "    </tr>\n",
       "    <tr>\n",
       "      <th>2</th>\n",
       "      <td>CH</td>\n",
       "      <td>26.0</td>\n",
       "      <td>2012</td>\n",
       "      <td>1.0</td>\n",
       "      <td>8.0</td>\n",
       "      <td>8.0</td>\n",
       "      <td>8.0</td>\n",
       "      <td>7.0</td>\n",
       "      <td>6.0</td>\n",
       "      <td>3.0</td>\n",
       "      <td>1.0</td>\n",
       "      <td>24.0</td>\n",
       "      <td>2.0</td>\n",
       "    </tr>\n",
       "    <tr>\n",
       "      <th>3</th>\n",
       "      <td>CH</td>\n",
       "      <td>28.0</td>\n",
       "      <td>2012</td>\n",
       "      <td>4.0</td>\n",
       "      <td>6.0</td>\n",
       "      <td>6.0</td>\n",
       "      <td>7.0</td>\n",
       "      <td>10.0</td>\n",
       "      <td>6.0</td>\n",
       "      <td>2.0</td>\n",
       "      <td>2.0</td>\n",
       "      <td>64.0</td>\n",
       "      <td>1.0</td>\n",
       "    </tr>\n",
       "    <tr>\n",
       "      <th>4</th>\n",
       "      <td>CH</td>\n",
       "      <td>29.0</td>\n",
       "      <td>2012</td>\n",
       "      <td>5.0</td>\n",
       "      <td>6.0</td>\n",
       "      <td>7.0</td>\n",
       "      <td>5.0</td>\n",
       "      <td>8.0</td>\n",
       "      <td>7.0</td>\n",
       "      <td>2.0</td>\n",
       "      <td>2.0</td>\n",
       "      <td>55.0</td>\n",
       "      <td>1.0</td>\n",
       "    </tr>\n",
       "  </tbody>\n",
       "</table>\n",
       "</div>"
      ],
      "text/plain": [
       "  cntry  idno  year  tvtot  ppltrst  pplfair  pplhlp  happy  sclmeet  sclact  \\\n",
       "0    CH   5.0  2012    3.0      3.0     10.0     5.0    8.0      5.0     4.0   \n",
       "1    CH  25.0  2012    6.0      5.0      7.0     5.0    9.0      3.0     2.0   \n",
       "2    CH  26.0  2012    1.0      8.0      8.0     8.0    7.0      6.0     3.0   \n",
       "3    CH  28.0  2012    4.0      6.0      6.0     7.0   10.0      6.0     2.0   \n",
       "4    CH  29.0  2012    5.0      6.0      7.0     5.0    8.0      7.0     2.0   \n",
       "\n",
       "   gndr  agea  partner  \n",
       "0   2.0  60.0      1.0  \n",
       "1   2.0  59.0      1.0  \n",
       "2   1.0  24.0      2.0  \n",
       "3   2.0  64.0      1.0  \n",
       "4   2.0  55.0      1.0  "
      ]
     },
     "execution_count": 276,
     "metadata": {},
     "output_type": "execute_result"
    }
   ],
   "source": [
    "data.head()"
   ]
  },
  {
   "cell_type": "code",
   "execution_count": 277,
   "metadata": {},
   "outputs": [
    {
     "data": {
      "text/html": [
       "<div>\n",
       "<style scoped>\n",
       "    .dataframe tbody tr th:only-of-type {\n",
       "        vertical-align: middle;\n",
       "    }\n",
       "\n",
       "    .dataframe tbody tr th {\n",
       "        vertical-align: top;\n",
       "    }\n",
       "\n",
       "    .dataframe thead th {\n",
       "        text-align: right;\n",
       "    }\n",
       "</style>\n",
       "<table border=\"1\" class=\"dataframe\">\n",
       "  <thead>\n",
       "    <tr style=\"text-align: right;\">\n",
       "      <th></th>\n",
       "      <th>cntry</th>\n",
       "      <th>idno</th>\n",
       "      <th>year</th>\n",
       "      <th>tvtot</th>\n",
       "      <th>ppltrst</th>\n",
       "      <th>pplfair</th>\n",
       "      <th>pplhlp</th>\n",
       "      <th>happy</th>\n",
       "      <th>sclmeet</th>\n",
       "      <th>sclact</th>\n",
       "      <th>gndr</th>\n",
       "      <th>agea</th>\n",
       "      <th>partner</th>\n",
       "    </tr>\n",
       "  </thead>\n",
       "  <tbody>\n",
       "    <tr>\n",
       "      <th>1645</th>\n",
       "      <td>CZ</td>\n",
       "      <td>1101.0</td>\n",
       "      <td>2012</td>\n",
       "      <td>3.0</td>\n",
       "      <td>NaN</td>\n",
       "      <td>NaN</td>\n",
       "      <td>NaN</td>\n",
       "      <td>9.0</td>\n",
       "      <td>6.0</td>\n",
       "      <td>3.0</td>\n",
       "      <td>2.0</td>\n",
       "      <td>70.0</td>\n",
       "      <td>2.0</td>\n",
       "    </tr>\n",
       "    <tr>\n",
       "      <th>1809</th>\n",
       "      <td>CZ</td>\n",
       "      <td>1268.0</td>\n",
       "      <td>2012</td>\n",
       "      <td>7.0</td>\n",
       "      <td>NaN</td>\n",
       "      <td>4.0</td>\n",
       "      <td>2.0</td>\n",
       "      <td>7.0</td>\n",
       "      <td>2.0</td>\n",
       "      <td>2.0</td>\n",
       "      <td>2.0</td>\n",
       "      <td>68.0</td>\n",
       "      <td>1.0</td>\n",
       "    </tr>\n",
       "    <tr>\n",
       "      <th>1849</th>\n",
       "      <td>CZ</td>\n",
       "      <td>1308.0</td>\n",
       "      <td>2012</td>\n",
       "      <td>6.0</td>\n",
       "      <td>NaN</td>\n",
       "      <td>8.0</td>\n",
       "      <td>6.0</td>\n",
       "      <td>10.0</td>\n",
       "      <td>5.0</td>\n",
       "      <td>3.0</td>\n",
       "      <td>2.0</td>\n",
       "      <td>46.0</td>\n",
       "      <td>1.0</td>\n",
       "    </tr>\n",
       "    <tr>\n",
       "      <th>1857</th>\n",
       "      <td>CZ</td>\n",
       "      <td>1316.0</td>\n",
       "      <td>2012</td>\n",
       "      <td>1.0</td>\n",
       "      <td>NaN</td>\n",
       "      <td>NaN</td>\n",
       "      <td>4.0</td>\n",
       "      <td>8.0</td>\n",
       "      <td>2.0</td>\n",
       "      <td>1.0</td>\n",
       "      <td>2.0</td>\n",
       "      <td>29.0</td>\n",
       "      <td>1.0</td>\n",
       "    </tr>\n",
       "    <tr>\n",
       "      <th>1872</th>\n",
       "      <td>CZ</td>\n",
       "      <td>1331.0</td>\n",
       "      <td>2012</td>\n",
       "      <td>5.0</td>\n",
       "      <td>NaN</td>\n",
       "      <td>5.0</td>\n",
       "      <td>4.0</td>\n",
       "      <td>8.0</td>\n",
       "      <td>3.0</td>\n",
       "      <td>4.0</td>\n",
       "      <td>2.0</td>\n",
       "      <td>60.0</td>\n",
       "      <td>2.0</td>\n",
       "    </tr>\n",
       "    <tr>\n",
       "      <th>2149</th>\n",
       "      <td>CZ</td>\n",
       "      <td>2097.0</td>\n",
       "      <td>2012</td>\n",
       "      <td>6.0</td>\n",
       "      <td>NaN</td>\n",
       "      <td>NaN</td>\n",
       "      <td>NaN</td>\n",
       "      <td>5.0</td>\n",
       "      <td>1.0</td>\n",
       "      <td>3.0</td>\n",
       "      <td>1.0</td>\n",
       "      <td>16.0</td>\n",
       "      <td>2.0</td>\n",
       "    </tr>\n",
       "    <tr>\n",
       "      <th>2170</th>\n",
       "      <td>CZ</td>\n",
       "      <td>2118.0</td>\n",
       "      <td>2012</td>\n",
       "      <td>7.0</td>\n",
       "      <td>NaN</td>\n",
       "      <td>8.0</td>\n",
       "      <td>8.0</td>\n",
       "      <td>7.0</td>\n",
       "      <td>3.0</td>\n",
       "      <td>2.0</td>\n",
       "      <td>2.0</td>\n",
       "      <td>56.0</td>\n",
       "      <td>2.0</td>\n",
       "    </tr>\n",
       "    <tr>\n",
       "      <th>2513</th>\n",
       "      <td>CZ</td>\n",
       "      <td>1314.0</td>\n",
       "      <td>2014</td>\n",
       "      <td>0.0</td>\n",
       "      <td>NaN</td>\n",
       "      <td>3.0</td>\n",
       "      <td>2.0</td>\n",
       "      <td>0.0</td>\n",
       "      <td>7.0</td>\n",
       "      <td>3.0</td>\n",
       "      <td>1.0</td>\n",
       "      <td>45.0</td>\n",
       "      <td>1.0</td>\n",
       "    </tr>\n",
       "    <tr>\n",
       "      <th>4409</th>\n",
       "      <td>ES</td>\n",
       "      <td>814.0</td>\n",
       "      <td>2014</td>\n",
       "      <td>7.0</td>\n",
       "      <td>NaN</td>\n",
       "      <td>5.0</td>\n",
       "      <td>5.0</td>\n",
       "      <td>8.0</td>\n",
       "      <td>7.0</td>\n",
       "      <td>1.0</td>\n",
       "      <td>2.0</td>\n",
       "      <td>80.0</td>\n",
       "      <td>2.0</td>\n",
       "    </tr>\n",
       "    <tr>\n",
       "      <th>4891</th>\n",
       "      <td>ES</td>\n",
       "      <td>1921.0</td>\n",
       "      <td>2014</td>\n",
       "      <td>1.0</td>\n",
       "      <td>NaN</td>\n",
       "      <td>4.0</td>\n",
       "      <td>4.0</td>\n",
       "      <td>7.0</td>\n",
       "      <td>6.0</td>\n",
       "      <td>3.0</td>\n",
       "      <td>2.0</td>\n",
       "      <td>33.0</td>\n",
       "      <td>2.0</td>\n",
       "    </tr>\n",
       "    <tr>\n",
       "      <th>5521</th>\n",
       "      <td>NO</td>\n",
       "      <td>10836.0</td>\n",
       "      <td>2012</td>\n",
       "      <td>3.0</td>\n",
       "      <td>NaN</td>\n",
       "      <td>NaN</td>\n",
       "      <td>NaN</td>\n",
       "      <td>NaN</td>\n",
       "      <td>6.0</td>\n",
       "      <td>3.0</td>\n",
       "      <td>1.0</td>\n",
       "      <td>80.0</td>\n",
       "      <td>1.0</td>\n",
       "    </tr>\n",
       "    <tr>\n",
       "      <th>6602</th>\n",
       "      <td>NO</td>\n",
       "      <td>18678.0</td>\n",
       "      <td>2014</td>\n",
       "      <td>4.0</td>\n",
       "      <td>NaN</td>\n",
       "      <td>10.0</td>\n",
       "      <td>NaN</td>\n",
       "      <td>9.0</td>\n",
       "      <td>7.0</td>\n",
       "      <td>4.0</td>\n",
       "      <td>2.0</td>\n",
       "      <td>90.0</td>\n",
       "      <td>2.0</td>\n",
       "    </tr>\n",
       "    <tr>\n",
       "      <th>6902</th>\n",
       "      <td>SE</td>\n",
       "      <td>499.0</td>\n",
       "      <td>2012</td>\n",
       "      <td>4.0</td>\n",
       "      <td>NaN</td>\n",
       "      <td>10.0</td>\n",
       "      <td>8.0</td>\n",
       "      <td>9.0</td>\n",
       "      <td>6.0</td>\n",
       "      <td>3.0</td>\n",
       "      <td>2.0</td>\n",
       "      <td>71.0</td>\n",
       "      <td>1.0</td>\n",
       "    </tr>\n",
       "    <tr>\n",
       "      <th>7627</th>\n",
       "      <td>SE</td>\n",
       "      <td>3561.0</td>\n",
       "      <td>2012</td>\n",
       "      <td>7.0</td>\n",
       "      <td>NaN</td>\n",
       "      <td>10.0</td>\n",
       "      <td>0.0</td>\n",
       "      <td>5.0</td>\n",
       "      <td>7.0</td>\n",
       "      <td>3.0</td>\n",
       "      <td>2.0</td>\n",
       "      <td>19.0</td>\n",
       "      <td>2.0</td>\n",
       "    </tr>\n",
       "  </tbody>\n",
       "</table>\n",
       "</div>"
      ],
      "text/plain": [
       "     cntry     idno  year  tvtot  ppltrst  pplfair  pplhlp  happy  sclmeet  \\\n",
       "1645    CZ   1101.0  2012    3.0      NaN      NaN     NaN    9.0      6.0   \n",
       "1809    CZ   1268.0  2012    7.0      NaN      4.0     2.0    7.0      2.0   \n",
       "1849    CZ   1308.0  2012    6.0      NaN      8.0     6.0   10.0      5.0   \n",
       "1857    CZ   1316.0  2012    1.0      NaN      NaN     4.0    8.0      2.0   \n",
       "1872    CZ   1331.0  2012    5.0      NaN      5.0     4.0    8.0      3.0   \n",
       "2149    CZ   2097.0  2012    6.0      NaN      NaN     NaN    5.0      1.0   \n",
       "2170    CZ   2118.0  2012    7.0      NaN      8.0     8.0    7.0      3.0   \n",
       "2513    CZ   1314.0  2014    0.0      NaN      3.0     2.0    0.0      7.0   \n",
       "4409    ES    814.0  2014    7.0      NaN      5.0     5.0    8.0      7.0   \n",
       "4891    ES   1921.0  2014    1.0      NaN      4.0     4.0    7.0      6.0   \n",
       "5521    NO  10836.0  2012    3.0      NaN      NaN     NaN    NaN      6.0   \n",
       "6602    NO  18678.0  2014    4.0      NaN     10.0     NaN    9.0      7.0   \n",
       "6902    SE    499.0  2012    4.0      NaN     10.0     8.0    9.0      6.0   \n",
       "7627    SE   3561.0  2012    7.0      NaN     10.0     0.0    5.0      7.0   \n",
       "\n",
       "      sclact  gndr  agea  partner  \n",
       "1645     3.0   2.0  70.0      2.0  \n",
       "1809     2.0   2.0  68.0      1.0  \n",
       "1849     3.0   2.0  46.0      1.0  \n",
       "1857     1.0   2.0  29.0      1.0  \n",
       "1872     4.0   2.0  60.0      2.0  \n",
       "2149     3.0   1.0  16.0      2.0  \n",
       "2170     2.0   2.0  56.0      2.0  \n",
       "2513     3.0   1.0  45.0      1.0  \n",
       "4409     1.0   2.0  80.0      2.0  \n",
       "4891     3.0   2.0  33.0      2.0  \n",
       "5521     3.0   1.0  80.0      1.0  \n",
       "6602     4.0   2.0  90.0      2.0  \n",
       "6902     3.0   2.0  71.0      1.0  \n",
       "7627     3.0   2.0  19.0      2.0  "
      ]
     },
     "execution_count": 277,
     "metadata": {},
     "output_type": "execute_result"
    }
   ],
   "source": [
    "data.loc[(data.ppltrst[data.ppltrst.isna()].index),:]"
   ]
  },
  {
   "cell_type": "code",
   "execution_count": 278,
   "metadata": {},
   "outputs": [],
   "source": [
    "def get_averages(df):\n",
    "    dic = {}\n",
    "    cols = ['tvtot','ppltrst','pplfair','pplhlp','happy','sclmeet','sclact']\n",
    "    for col in cols:\n",
    "        ct_facts = []\n",
    "        for cntry in set(data.cntry):\n",
    "            ct_facts.append([cntry,data.loc[(data.cntry==cntry),[col]].mean()[0]])\n",
    "        dic[col] = ct_facts\n",
    "    return dic"
   ]
  },
  {
   "cell_type": "code",
   "execution_count": 279,
   "metadata": {},
   "outputs": [],
   "source": [
    "avg_dic = get_averages(data)"
   ]
  },
  {
   "cell_type": "code",
   "execution_count": 280,
   "metadata": {},
   "outputs": [],
   "source": [
    "#Function to fill in all the averages for a particular column\n",
    "def fill_avgs(col,df):\n",
    "    lit = avg_dic[col]\n",
    "    for cnt in set(df.cntry):\n",
    "        for item in lit:\n",
    "            if item[0] == cnt:\n",
    "                avg=item[1]\n",
    "                break\n",
    "        df.loc[(df.cntry==cnt),[col]] = \\\n",
    "        df.loc[(df.cntry==cnt),[col]].fillna(avg)"
   ]
  },
  {
   "cell_type": "markdown",
   "metadata": {},
   "source": [
    "### 1. Did people become less trusting from 2012 to 2014? Compute results for each country in the sample."
   ]
  },
  {
   "cell_type": "code",
   "execution_count": 283,
   "metadata": {},
   "outputs": [],
   "source": [
    "fill_avgs('ppltrst',data)"
   ]
  },
  {
   "cell_type": "code",
   "execution_count": 182,
   "metadata": {},
   "outputs": [],
   "source": [
    "data_trust = data.loc[:,['cntry','year','ppltrst']]"
   ]
  },
  {
   "cell_type": "code",
   "execution_count": 288,
   "metadata": {},
   "outputs": [
    {
     "data": {
      "image/png": "[encoded data removed]",
      "text/plain": [
       "<Figure size 432x288 with 6 Axes>"
      ]
     },
     "metadata": {},
     "output_type": "display_data"
    }
   ],
   "source": [
    "data_trust.loc[(data_trust.year==2012),['ppltrst','cntry']].hist(by=['cntry'],sharex=True, sharey=True)\n",
    "plt.show()"
   ]
  },
  {
   "cell_type": "code",
   "execution_count": 287,
   "metadata": {},
   "outputs": [
    {
     "data": {
      "image/png": "[encoded data removed]",
      "text/plain": [
       "<Figure size 432x288 with 6 Axes>"
      ]
     },
     "metadata": {},
     "output_type": "display_data"
    }
   ],
   "source": [
    "data_trust.loc[(data_trust.year==2014),['ppltrst','cntry']].hist(by=['cntry'],sharex=True, sharey=True)\n",
    "plt.show()"
   ]
  },
  {
   "cell_type": "code",
   "execution_count": 164,
   "metadata": {},
   "outputs": [],
   "source": [
    "#Data looks approximately normal"
   ]
  },
  {
   "cell_type": "code",
   "execution_count": 236,
   "metadata": {},
   "outputs": [],
   "source": [
    "def get_cntry_changes(df):\n",
    "    countries = set(df.cntry)\n",
    "    for cntry in countries:\n",
    "        c_trust = data_trust.loc[(data_trust.cntry == cntry),['ppltrst','year']]\n",
    "        results = stats.ttest_rel(c_trust.loc[(c_trust.year==2012),['ppltrst']],\\\n",
    "                                  c_trust.loc[(c_trust.year==2014),['ppltrst']])\n",
    "        \n",
    "        print('Country: {}, Statistic: {}, P-value: {}'.format(cntry,results[0][0],\\\n",
    "                                                              results[1][0]))"
   ]
  },
  {
   "cell_type": "code",
   "execution_count": 237,
   "metadata": {},
   "outputs": [
    {
     "name": "stdout",
     "output_type": "stream",
     "text": [
      "Country: ES, Statistic: 2.483799395392077, P-value: 0.0131332302479683\n",
      "Country: CH, Statistic: -0.6586851756725737, P-value: 0.5102943511301135\n",
      "Country: CZ, Statistic: nan, P-value: nan\n",
      "Country: SE, Statistic: -2.073382457160033, P-value: 0.03841851160449428\n",
      "Country: NO, Statistic: 0.5361777434115927, P-value: 0.5919990516862329\n",
      "Country: DE, Statistic: nan, P-value: nan\n"
     ]
    }
   ],
   "source": [
    "get_cntry_changes(data_trust)"
   ]
  },
  {
   "cell_type": "code",
   "execution_count": 238,
   "metadata": {},
   "outputs": [
    {
     "name": "stdout",
     "output_type": "stream",
     "text": [
      "Ttest_relResult(statistic=array([0.36919522]), pvalue=array([0.71200041]))\n"
     ]
    }
   ],
   "source": [
    "#Run test on all countries combined\n",
    "results = stats.ttest_rel(data_trust.loc[(data_trust.year==2012),['ppltrst']],\\\n",
    "                                  data_trust.loc[(data_trust.year==2014),['ppltrst']])\n",
    "print(results)"
   ]
  },
  {
   "cell_type": "markdown",
   "metadata": {},
   "source": [
    "Overall there has been no change in people's trust, however looking at the breakdown between each country, It appears that people in ES and SE had a change in trust. Trust has decreased in ES and increased in SE.\n",
    "\n",
    "### 2. Did people become happier from 2012 to 2014? Compute results for each country in the sample."
   ]
  },
  {
   "cell_type": "code",
   "execution_count": 295,
   "metadata": {},
   "outputs": [
    {
     "data": {
      "image/png": "[encoded data removed]",
      "text/plain": [
       "<Figure size 432x288 with 6 Axes>"
      ]
     },
     "metadata": {},
     "output_type": "display_data"
    },
    {
     "data": {
      "image/png": "[encoded data removed]",
      "text/plain": [
       "<Figure size 432x288 with 6 Axes>"
      ]
     },
     "metadata": {},
     "output_type": "display_data"
    },
    {
     "name": "stdout",
     "output_type": "stream",
     "text": [
      "Country: ES, Statistic: 4.086118020109992, P-value: 0.043236838117116295\n",
      "Country: CH, Statistic: 0.20163359105610804, P-value: 0.6534054769840507\n",
      "Country: CZ, Statistic: 1.5716482642333078, P-value: 0.20996780717789276\n",
      "Country: SE, Statistic: 0.038506386752578475, P-value: 0.8444298011877086\n",
      "Country: NO, Statistic: 19.373390880485164, P-value: 1.0749444969735168e-05\n",
      "Country: DE, Statistic: 0.39056749122656015, P-value: 0.532001255058662\n"
     ]
    }
   ],
   "source": [
    "#Replace nan values in dataset with averages\n",
    "fill_avgs('happy',data)\n",
    "\n",
    "#Get needed data\n",
    "data_hap = data.loc[:,['cntry','year','happy']]\n",
    "\n",
    "#Take a look at graphs of data\n",
    "data_hap.loc[(data_trust.year==2012),['happy','cntry']].hist(by=['cntry'],sharex=True, sharey=True)\n",
    "plt.show()\n",
    "data_hap.loc[(data_trust.year==2014),['happy','cntry']].hist(by=['cntry'],sharex=True, sharey=True)\n",
    "plt.show()\n",
    "\n",
    "#Data is not normal, Need to use a non-parametric test\n",
    "def get_hap_changes(df):\n",
    "    countries = set(df.cntry)\n",
    "    for cntry in countries:\n",
    "        c_trust = df.loc[(df.cntry == cntry),['happy','year']]\n",
    "        results = stats.kruskal(c_trust.loc[(c_trust.year==2012),['happy']],\\\n",
    "                                  c_trust.loc[(c_trust.year==2014),['happy']])\n",
    "        \n",
    "        print('Country: {}, Statistic: {}, P-value: {}'.format(cntry,results[0],\\\n",
    "                                                              results[1]))\n",
    "get_hap_changes(data_hap)"
   ]
  },
  {
   "cell_type": "code",
   "execution_count": 296,
   "metadata": {},
   "outputs": [
    {
     "name": "stdout",
     "output_type": "stream",
     "text": [
      "happy    7.548627\n",
      "dtype: float64 happy    7.42002\n",
      "dtype: float64\n"
     ]
    }
   ],
   "source": [
    "print(data_hap.loc[(data_hap.cntry == 'ES')&(data_hap.year==2012),['happy']].mean(),\n",
    "     data_hap.loc[(data_hap.cntry == 'ES')&(data_hap.year==2014),['happy']].mean())"
   ]
  },
  {
   "cell_type": "markdown",
   "metadata": {},
   "source": [
    "There is no significant change in happiness from 2012 to 2014 with a 95% confidence level. The only country where there was a significant change was ES, in which happiness had declined.\n",
    "\n",
    "### 3. Who reported watching more TV in 2012, men or women?"
   ]
  },
  {
   "cell_type": "code",
   "execution_count": 313,
   "metadata": {},
   "outputs": [
    {
     "data": {
      "image/png": "[encoded data removed]",
      "text/plain": [
       "<Figure size 432x288 with 2 Axes>"
      ]
     },
     "metadata": {},
     "output_type": "display_data"
    },
    {
     "name": "stdout",
     "output_type": "stream",
     "text": [
      "Male average: 3.83\n",
      "Female average: 3.89\n",
      "Overall: \n",
      " Statistic: 2.498297632864963, P-value: 0.11396943370934245\n"
     ]
    }
   ],
   "source": [
    "#Fill in Nans with averages\n",
    "fill_avgs('tvtot',data)\n",
    "\n",
    "#Get the data we need\n",
    "data_tv = data.loc[:,['tvtot','gndr']]\n",
    "\n",
    "#Take a look at the data\n",
    "data_tv.hist(by=['gndr'], sharex=True, sharey=True)\n",
    "plt.show()\n",
    "\n",
    "print('Male average: {0:.2f}'.format(data_tv.loc[(data_tv.gndr==1),['tvtot']].mean()[0]))\n",
    "print('Female average: {0:.2f}'.format(data_tv.loc[(data_tv.gndr==2),['tvtot']].mean()[0]))\n",
    "\n",
    "#Data does not look very normal. Let's run a non-parametric test.\n",
    "results = stats.kruskal(data_tv.loc[(data_tv['gndr']==1),['tvtot']], data_tv.loc[(data_tv['gndr']==2),['tvtot']])\n",
    "print('Overall: \\n Statistic: {}, P-value: {}'.format(results[0],results[1]))"
   ]
  },
  {
   "cell_type": "markdown",
   "metadata": {},
   "source": [
    "While at first glance at the means and graphs of the data, it would appear that women tend to report watching more TV than men, however, after running a kruskal statistic, it can be seen that there is no significant difference that can be reported. Neither women nor men report watching more TV at a statistically significant level.\n",
    "\n",
    "### 4. Who was more likely to believe people were fair in 2012, people living with a partner or people living alone?"
   ]
  },
  {
   "cell_type": "code",
   "execution_count": 330,
   "metadata": {},
   "outputs": [
    {
     "name": "stdout",
     "output_type": "stream",
     "text": [
      "4297\n"
     ]
    },
    {
     "data": {
      "image/png": "[encoded data removed]",
      "text/plain": [
       "<Figure size 432x288 with 2 Axes>"
      ]
     },
     "metadata": {},
     "output_type": "display_data"
    },
    {
     "name": "stdout",
     "output_type": "stream",
     "text": [
      "Spouse average: 6.08\n",
      "Single average: 5.86\n",
      "Overall: \n",
      " Statistic: 13.781821273912154, P-value: 0.00020531329321977996\n"
     ]
    }
   ],
   "source": [
    "#Replace any nan values\n",
    "fill_avgs('pplfair',data)\n",
    "\n",
    "#Get needed data\n",
    "data_fair =  data.loc[(data.year==2012),['pplfair','partner','year']]\n",
    "\n",
    "#Take a look at the data\n",
    "data_fair.hist(by=['partner'], sharex=True, sharey=True)\n",
    "plt.show()\n",
    "\n",
    "print('Spouse average: {0:.2f}'.format(data_fair.loc[(data_fair.partner==1),['pplfair']].mean()[0]))\n",
    "print('Single average: {0:.2f}'.format(data_fair.loc[(data_fair.partner==2),['pplfair']].mean()[0]))\n",
    "\n",
    "#Graphs are not normal at all. Let's run a non-parametric test\n",
    "results = stats.kruskal(data_fair.loc[(data_fair['partner']==1),['pplfair']], \n",
    "                        data_fair.loc[(data_fair['partner']==2),['pplfair']])\n",
    "print('Overall: \\n Statistic: {}, P-value: {}'.format(results[0],results[1]))"
   ]
  },
  {
   "cell_type": "markdown",
   "metadata": {},
   "source": [
    "We can predict that people living with a partner are more likely to believe that people are fair in 2012 at a 99% confidence level.\n",
    "\n",
    "### 5. Pick three or four of the countries in the sample and compare how often people met socially in 2014. Are there differences, and if so, which countries stand out?"
   ]
  },
  {
   "cell_type": "code",
   "execution_count": 339,
   "metadata": {},
   "outputs": [
    {
     "data": {
      "image/png": "[encoded data removed]",
      "text/plain": [
       "<Figure size 432x288 with 4 Axes>"
      ]
     },
     "metadata": {},
     "output_type": "display_data"
    },
    {
     "name": "stdout",
     "output_type": "stream",
     "text": [
      "Overall: \n",
      " Statistic: 20.99636826147012, P-value: 2.758649736836403e-05\n"
     ]
    }
   ],
   "source": [
    "#Fill nans in\n",
    "fill_avgs('sclmeet',data)\n",
    "\n",
    "#Pick three countries\n",
    "cntries = ['CH','ES','SE']\n",
    "\n",
    "#Get the data we need\n",
    "data_meet = data.loc[(data.year==2014)&((data.cntry=='CH')|(data.cntry=='ES')|\n",
    "                                        (data.cntry=='SE')),['sclmeet','cntry']]\n",
    "\n",
    "#Take a look at the data\n",
    "data_meet.hist(by=['cntry'], sharex=True, sharey=True)\n",
    "plt.show()\n",
    "\n",
    "#Data is not normal. Let's run non-parametric tests.\n",
    "final = stats.kruskal(data_meet.loc[(data_meet.cntry=='CH'),['sclmeet']],\n",
    "             data_meet.loc[(data_meet.cntry=='ES'),['sclmeet']],\n",
    "             data_meet.loc[(data_meet.cntry=='SE'),['sclmeet']])\n",
    "print('Overall: \\n Statistic: {}, P-value: {}'.format(final[0],final[1]))"
   ]
  },
  {
   "cell_type": "code",
   "execution_count": 359,
   "metadata": {},
   "outputs": [
    {
     "name": "stdout",
     "output_type": "stream",
     "text": [
      "Ttest_indResult(statistic=array([-1.53699285]), pvalue=array([0.12445452]))\n",
      "Ttest_indResult(statistic=array([-4.04053236]), pvalue=array([5.57384261e-05]))\n",
      "Ttest_indResult(statistic=array([-2.6521483]), pvalue=array([0.00805779]))\n",
      "5.426211453744493 5.26008973799528 5.160570016258853\n"
     ]
    }
   ],
   "source": [
    "#There is definitely a significant difference here, let's take a deeper look:\n",
    "\n",
    "print(stats.ttest_ind(data_meet.loc[(data_meet.cntry=='CH'),['sclmeet']],\n",
    "                      data_meet.loc[(data_meet.cntry=='ES'),['sclmeet']]))\n",
    "print(stats.ttest_ind(data_meet.loc[(data_meet.cntry=='CH'),['sclmeet']],\n",
    "                      data_meet.loc[(data_meet.cntry=='SE'),['sclmeet']]))\n",
    "print(stats.ttest_ind(data_meet.loc[(data_meet.cntry=='ES'),['sclmeet']],\n",
    "                      data_meet.loc[(data_meet.cntry=='SE'),['sclmeet']]))\n",
    "\n",
    "print(data_meet.loc[(data_meet.cntry=='SE'),['sclmeet']].mean()[0],\n",
    "      data_meet.loc[(data_meet.cntry=='ES'),['sclmeet']].mean()[0],\n",
    "      data_meet.loc[(data_meet.cntry=='CH'),['sclmeet']].mean()[0])\n"
   ]
  },
  {
   "cell_type": "markdown",
   "metadata": {},
   "source": [
    "When comparing how often people meet socially between Switzerland, Spain, and Sweden we can see that the groups have a significant difference betwen all of them. When breaking down the individual comparison, it appears that Sweden stands out between both other groups. Sweden meets people socially more often than Switzerland or Spain.\n",
    "\n",
    "### 6. Pick three or four of the countries in the sample and compare how often people took part in social activities, relative to others their age, in 2014. Are there differences, and if so, which countries stand out?"
   ]
  },
  {
   "cell_type": "code",
   "execution_count": 376,
   "metadata": {},
   "outputs": [
    {
     "data": {
      "image/png": "[encoded data removed]",
      "text/plain": [
       "<Figure size 432x288 with 4 Axes>"
      ]
     },
     "metadata": {},
     "output_type": "display_data"
    },
    {
     "name": "stdout",
     "output_type": "stream",
     "text": [
      "Overall: \n",
      " Statistic: 45.1317550145986, P-value: 1.5840318850511988e-10\n"
     ]
    }
   ],
   "source": [
    "#Fill nans in\n",
    "fill_avgs('sclact',data)\n",
    "\n",
    "#Pick three countries\n",
    "cntries = ['CH','ES','SE']\n",
    "\n",
    "#Get the data we need\n",
    "data_social = data.loc[(data.year==2014)&((data.cntry=='CH')|(data.cntry=='ES')|\n",
    "                                        (data.cntry=='SE')),['sclact','cntry','agea']]\n",
    "data_social['act_by_age'] = data_social.sclact/data_social.agea\n",
    "\n",
    "#Take a look at the data\n",
    "data_social.hist(by=['cntry'], column=['act_by_age'])\n",
    "plt.show()\n",
    "\n",
    "#Distribution of graph is about normal with a large skew to the left. Let's run non-parametric tests.\n",
    "finals = stats.kruskal(data_social.loc[(data_social.cntry=='CH'),['sclact']],\n",
    "             data_social.loc[(data_social.cntry=='ES'),['sclact']],\n",
    "             data_social.loc[(data_social.cntry=='SE'),['sclact']])\n",
    "print('Overall: \\n Statistic: {}, P-value: {}'.format(finals[0],finals[1]))"
   ]
  },
  {
   "cell_type": "code",
   "execution_count": 380,
   "metadata": {},
   "outputs": [
    {
     "name": "stdout",
     "output_type": "stream",
     "text": [
      "Ttest_indResult(statistic=array([3.8607289]), pvalue=array([0.00011667]))\n",
      "Ttest_indResult(statistic=array([-2.27498996]), pvalue=array([0.02303213]))\n",
      "Ttest_indResult(statistic=array([-6.60979735]), pvalue=array([4.85460132e-11]))\n",
      "Sweden: 2.8795095643010815 \n",
      " Spain: 2.616219321393999 \n",
      " Switzerland: 2.781301811040766\n"
     ]
    }
   ],
   "source": [
    "#There is definitely a significant change here. Let's dive in.\n",
    "\n",
    "print(stats.ttest_ind(data_social.loc[(data_social.cntry=='CH'),['sclact']],\n",
    "                      data_social.loc[(data_social.cntry=='ES'),['sclact']]))\n",
    "print(stats.ttest_ind(data_social.loc[(data_social.cntry=='CH'),['sclact']],\n",
    "                      data_social.loc[(data_social.cntry=='SE'),['sclact']]))\n",
    "print(stats.ttest_ind(data_social.loc[(data_social.cntry=='ES'),['sclact']],\n",
    "                      data_social.loc[(data_social.cntry=='SE'),['sclact']]))\n",
    "\n",
    "print('Sweden:',data_social.loc[(data_social.cntry=='SE'),['sclact']].mean()[0],\n",
    "      '\\n Spain:',data_social.loc[(data_social.cntry=='ES'),['sclact']].mean()[0],\n",
    "      '\\n Switzerland:',data_social.loc[(data_social.cntry=='CH'),['sclact']].mean()[0])\n",
    "\n"
   ]
  },
  {
   "cell_type": "markdown",
   "metadata": {},
   "source": [
    "All three countries differ by the ratio of social activities to age at a significance level of 97-99% overall and individually. Spain sticks out as the most significantly different from both Sweden and Switzerland."
   ]
  },
  {
   "cell_type": "code",
   "execution_count": null,
   "metadata": {},
   "outputs": [],
   "source": []
  }
 ],
 "metadata": {
  "kernelspec": {
   "display_name": "Python 3",
   "language": "python",
   "name": "python3"
  },
  "language_info": {
   "codemirror_mode": {
    "name": "ipython",
    "version": 3
   },
   "file_extension": ".py",
   "mimetype": "text/x-python",
   "name": "python",
   "nbconvert_exporter": "python",
   "pygments_lexer": "ipython3",
   "version": "3.6.4"
  }
 },
 "nbformat": 4,
 "nbformat_minor": 2
}
