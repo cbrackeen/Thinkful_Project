{
 "cells": [
  {
   "cell_type": "code",
   "execution_count": 2,
   "metadata": {},
   "outputs": [],
   "source": [
    "import pandas as pd\n",
    "from matplotlib import pyplot as plt\n",
    "import numpy as np\n",
    "from sklearn import linear_model\n",
    "%matplotlib inline\n",
    "pd.options.display.float_format = '{:.3f}'.format\n",
    "\n",
    "# Suppress annoying harmless error.\n",
    "import warnings\n",
    "warnings.filterwarnings(action=\"ignore\", module=\"scipy\", message=\"^internal gelsd\")"
   ]
  },
  {
   "cell_type": "code",
   "execution_count": 3,
   "metadata": {},
   "outputs": [],
   "source": [
    "#Dropping the nonsense rows at the beginning and specifying the column row\n",
    "data = pd.read_excel('table_8_offenses_known_to_law_enforcement_new_york_by_city_2013.xls',\n",
    "                    header=1, skiprows=[0,1,2,])"
   ]
  },
  {
   "cell_type": "code",
   "execution_count": 4,
   "metadata": {},
   "outputs": [
    {
     "data": {
      "text/html": [
       "<div>\n",
       "<style scoped>\n",
       "    .dataframe tbody tr th:only-of-type {\n",
       "        vertical-align: middle;\n",
       "    }\n",
       "\n",
       "    .dataframe tbody tr th {\n",
       "        vertical-align: top;\n",
       "    }\n",
       "\n",
       "    .dataframe thead th {\n",
       "        text-align: right;\n",
       "    }\n",
       "</style>\n",
       "<table border=\"1\" class=\"dataframe\">\n",
       "  <thead>\n",
       "    <tr style=\"text-align: right;\">\n",
       "      <th></th>\n",
       "      <th>City</th>\n",
       "      <th>Population</th>\n",
       "      <th>Violent\n",
       "crime</th>\n",
       "      <th>Murder and\n",
       "nonnegligent\n",
       "manslaughter</th>\n",
       "      <th>Rape\n",
       "(revised\n",
       "definition)1</th>\n",
       "      <th>Rape\n",
       "(legacy\n",
       "definition)2</th>\n",
       "      <th>Robbery</th>\n",
       "      <th>Aggravated\n",
       "assault</th>\n",
       "      <th>Property\n",
       "crime</th>\n",
       "      <th>Burglary</th>\n",
       "      <th>Larceny-\n",
       "theft</th>\n",
       "      <th>Motor\n",
       "vehicle\n",
       "theft</th>\n",
       "      <th>Arson3</th>\n",
       "    </tr>\n",
       "  </thead>\n",
       "  <tbody>\n",
       "    <tr>\n",
       "      <th>0</th>\n",
       "      <td>Adams Village</td>\n",
       "      <td>1861.000</td>\n",
       "      <td>0.000</td>\n",
       "      <td>0.000</td>\n",
       "      <td>nan</td>\n",
       "      <td>0.000</td>\n",
       "      <td>0.000</td>\n",
       "      <td>0.000</td>\n",
       "      <td>12.000</td>\n",
       "      <td>2.000</td>\n",
       "      <td>10.000</td>\n",
       "      <td>0.000</td>\n",
       "      <td>0.000</td>\n",
       "    </tr>\n",
       "    <tr>\n",
       "      <th>1</th>\n",
       "      <td>Addison Town and Village</td>\n",
       "      <td>2577.000</td>\n",
       "      <td>3.000</td>\n",
       "      <td>0.000</td>\n",
       "      <td>nan</td>\n",
       "      <td>0.000</td>\n",
       "      <td>0.000</td>\n",
       "      <td>3.000</td>\n",
       "      <td>24.000</td>\n",
       "      <td>3.000</td>\n",
       "      <td>20.000</td>\n",
       "      <td>1.000</td>\n",
       "      <td>0.000</td>\n",
       "    </tr>\n",
       "    <tr>\n",
       "      <th>2</th>\n",
       "      <td>Akron Village</td>\n",
       "      <td>2846.000</td>\n",
       "      <td>3.000</td>\n",
       "      <td>0.000</td>\n",
       "      <td>nan</td>\n",
       "      <td>0.000</td>\n",
       "      <td>0.000</td>\n",
       "      <td>3.000</td>\n",
       "      <td>16.000</td>\n",
       "      <td>1.000</td>\n",
       "      <td>15.000</td>\n",
       "      <td>0.000</td>\n",
       "      <td>0.000</td>\n",
       "    </tr>\n",
       "    <tr>\n",
       "      <th>3</th>\n",
       "      <td>Albany</td>\n",
       "      <td>97956.000</td>\n",
       "      <td>791.000</td>\n",
       "      <td>8.000</td>\n",
       "      <td>nan</td>\n",
       "      <td>30.000</td>\n",
       "      <td>227.000</td>\n",
       "      <td>526.000</td>\n",
       "      <td>4090.000</td>\n",
       "      <td>705.000</td>\n",
       "      <td>3243.000</td>\n",
       "      <td>142.000</td>\n",
       "      <td>nan</td>\n",
       "    </tr>\n",
       "    <tr>\n",
       "      <th>4</th>\n",
       "      <td>Albion Village</td>\n",
       "      <td>6388.000</td>\n",
       "      <td>23.000</td>\n",
       "      <td>0.000</td>\n",
       "      <td>nan</td>\n",
       "      <td>3.000</td>\n",
       "      <td>4.000</td>\n",
       "      <td>16.000</td>\n",
       "      <td>223.000</td>\n",
       "      <td>53.000</td>\n",
       "      <td>165.000</td>\n",
       "      <td>5.000</td>\n",
       "      <td>nan</td>\n",
       "    </tr>\n",
       "  </tbody>\n",
       "</table>\n",
       "</div>"
      ],
      "text/plain": [
       "                       City  Population  Violent\\ncrime  \\\n",
       "0             Adams Village    1861.000           0.000   \n",
       "1  Addison Town and Village    2577.000           3.000   \n",
       "2             Akron Village    2846.000           3.000   \n",
       "3                    Albany   97956.000         791.000   \n",
       "4            Albion Village    6388.000          23.000   \n",
       "\n",
       "   Murder and\\nnonnegligent\\nmanslaughter  Rape\\n(revised\\ndefinition)1  \\\n",
       "0                                   0.000                           nan   \n",
       "1                                   0.000                           nan   \n",
       "2                                   0.000                           nan   \n",
       "3                                   8.000                           nan   \n",
       "4                                   0.000                           nan   \n",
       "\n",
       "   Rape\\n(legacy\\ndefinition)2  Robbery  Aggravated\\nassault  Property\\ncrime  \\\n",
       "0                        0.000    0.000                0.000           12.000   \n",
       "1                        0.000    0.000                3.000           24.000   \n",
       "2                        0.000    0.000                3.000           16.000   \n",
       "3                       30.000  227.000              526.000         4090.000   \n",
       "4                        3.000    4.000               16.000          223.000   \n",
       "\n",
       "   Burglary  Larceny-\\ntheft  Motor\\nvehicle\\ntheft  Arson3  \n",
       "0     2.000           10.000                  0.000   0.000  \n",
       "1     3.000           20.000                  1.000   0.000  \n",
       "2     1.000           15.000                  0.000   0.000  \n",
       "3   705.000         3243.000                142.000     nan  \n",
       "4    53.000          165.000                  5.000     nan  "
      ]
     },
     "execution_count": 4,
     "metadata": {},
     "output_type": "execute_result"
    }
   ],
   "source": [
    "data.head()"
   ]
  },
  {
   "cell_type": "code",
   "execution_count": 5,
   "metadata": {},
   "outputs": [],
   "source": [
    "#Only selecting columns needed for evaluation\n",
    "data_short = data.iloc[:, [1,3,6]]"
   ]
  },
  {
   "cell_type": "code",
   "execution_count": 6,
   "metadata": {},
   "outputs": [
    {
     "data": {
      "text/html": [
       "<div>\n",
       "<style scoped>\n",
       "    .dataframe tbody tr th:only-of-type {\n",
       "        vertical-align: middle;\n",
       "    }\n",
       "\n",
       "    .dataframe tbody tr th {\n",
       "        vertical-align: top;\n",
       "    }\n",
       "\n",
       "    .dataframe thead th {\n",
       "        text-align: right;\n",
       "    }\n",
       "</style>\n",
       "<table border=\"1\" class=\"dataframe\">\n",
       "  <thead>\n",
       "    <tr style=\"text-align: right;\">\n",
       "      <th></th>\n",
       "      <th>Population</th>\n",
       "      <th>Murder and\n",
       "nonnegligent\n",
       "manslaughter</th>\n",
       "      <th>Robbery</th>\n",
       "    </tr>\n",
       "  </thead>\n",
       "  <tbody>\n",
       "    <tr>\n",
       "      <th>0</th>\n",
       "      <td>1861.000</td>\n",
       "      <td>0.000</td>\n",
       "      <td>0.000</td>\n",
       "    </tr>\n",
       "    <tr>\n",
       "      <th>1</th>\n",
       "      <td>2577.000</td>\n",
       "      <td>0.000</td>\n",
       "      <td>0.000</td>\n",
       "    </tr>\n",
       "    <tr>\n",
       "      <th>2</th>\n",
       "      <td>2846.000</td>\n",
       "      <td>0.000</td>\n",
       "      <td>0.000</td>\n",
       "    </tr>\n",
       "    <tr>\n",
       "      <th>3</th>\n",
       "      <td>97956.000</td>\n",
       "      <td>8.000</td>\n",
       "      <td>227.000</td>\n",
       "    </tr>\n",
       "    <tr>\n",
       "      <th>4</th>\n",
       "      <td>6388.000</td>\n",
       "      <td>0.000</td>\n",
       "      <td>4.000</td>\n",
       "    </tr>\n",
       "  </tbody>\n",
       "</table>\n",
       "</div>"
      ],
      "text/plain": [
       "   Population  Murder and\\nnonnegligent\\nmanslaughter  Robbery\n",
       "0    1861.000                                   0.000    0.000\n",
       "1    2577.000                                   0.000    0.000\n",
       "2    2846.000                                   0.000    0.000\n",
       "3   97956.000                                   8.000  227.000\n",
       "4    6388.000                                   0.000    4.000"
      ]
     },
     "execution_count": 6,
     "metadata": {},
     "output_type": "execute_result"
    }
   ],
   "source": [
    "data_short.head()"
   ]
  },
  {
   "cell_type": "code",
   "execution_count": 7,
   "metadata": {},
   "outputs": [
    {
     "name": "stderr",
     "output_type": "stream",
     "text": [
      "/Library/Frameworks/Python.framework/Versions/3.6/lib/python3.6/site-packages/ipykernel_launcher.py:2: SettingWithCopyWarning: \n",
      "A value is trying to be set on a copy of a slice from a DataFrame.\n",
      "Try using .loc[row_indexer,col_indexer] = value instead\n",
      "\n",
      "See the caveats in the documentation: http://pandas.pydata.org/pandas-docs/stable/indexing.html#indexing-view-versus-copy\n",
      "  \n"
     ]
    }
   ],
   "source": [
    "#Adding Pop squared column\n",
    "data_short['Population_sq'] = data_short.Population ** 2"
   ]
  },
  {
   "cell_type": "code",
   "execution_count": 8,
   "metadata": {},
   "outputs": [],
   "source": [
    "#Renaming columns, because of strange error\n",
    "data_short.columns = ['Population', 'Murder','Robbery', 'Population_sq']"
   ]
  },
  {
   "cell_type": "code",
   "execution_count": 90,
   "metadata": {},
   "outputs": [],
   "source": [
    "#Turning Murder continuous into categorical\n",
    "data_short.Murder = (data_short.Murder > 0).astype(int)"
   ]
  },
  {
   "cell_type": "code",
   "execution_count": 10,
   "metadata": {},
   "outputs": [
    {
     "name": "stderr",
     "output_type": "stream",
     "text": [
      "/Library/Frameworks/Python.framework/Versions/3.6/lib/python3.6/site-packages/pandas/core/generic.py:3643: SettingWithCopyWarning: \n",
      "A value is trying to be set on a copy of a slice from a DataFrame.\n",
      "Try using .loc[row_indexer,col_indexer] = value instead\n",
      "\n",
      "See the caveats in the documentation: http://pandas.pydata.org/pandas-docs/stable/indexing.html#indexing-view-versus-copy\n",
      "  self[name] = value\n"
     ]
    }
   ],
   "source": [
    "#Turning Robbery continuous into categorical\n",
    "data_short.Robbery = (data_short.Robbery > 0).astype(int)"
   ]
  },
  {
   "cell_type": "code",
   "execution_count": 91,
   "metadata": {},
   "outputs": [],
   "source": [
    "#Checking if we have NaN values in the data set\n",
    "data_check = data_short.apply(lambda x: np.isnan(x))"
   ]
  },
  {
   "cell_type": "code",
   "execution_count": 92,
   "metadata": {},
   "outputs": [
    {
     "data": {
      "text/plain": [
       "False    347\n",
       "Name: Population, dtype: int64"
      ]
     },
     "metadata": {},
     "output_type": "display_data"
    },
    {
     "data": {
      "text/plain": [
       "False    347\n",
       "Name: Murder, dtype: int64"
      ]
     },
     "metadata": {},
     "output_type": "display_data"
    },
    {
     "data": {
      "text/plain": [
       "False    347\n",
       "Name: Robbery, dtype: int64"
      ]
     },
     "metadata": {},
     "output_type": "display_data"
    },
    {
     "data": {
      "text/plain": [
       "False    347\n",
       "Name: Population_sq, dtype: int64"
      ]
     },
     "metadata": {},
     "output_type": "display_data"
    },
    {
     "data": {
      "text/plain": [
       "False    347\n",
       "Name: Property_crime, dtype: int64"
      ]
     },
     "metadata": {},
     "output_type": "display_data"
    },
    {
     "data": {
      "text/plain": [
       "False    347\n",
       "Name: Larceny_by_pop, dtype: int64"
      ]
     },
     "metadata": {},
     "output_type": "display_data"
    },
    {
     "data": {
      "text/plain": [
       "False    347\n",
       "Name: Car_theft, dtype: int64"
      ]
     },
     "metadata": {},
     "output_type": "display_data"
    }
   ],
   "source": [
    "#Looks like we do for the two population variables\n",
    "for item in data_check:\n",
    "    display(data_check[item].value_counts())"
   ]
  },
  {
   "cell_type": "code",
   "execution_count": 13,
   "metadata": {},
   "outputs": [],
   "source": [
    "#Removing the NaN\n",
    "data_short = data_short.dropna()"
   ]
  },
  {
   "cell_type": "code",
   "execution_count": 14,
   "metadata": {},
   "outputs": [
    {
     "data": {
      "text/plain": [
       "348"
      ]
     },
     "execution_count": 14,
     "metadata": {},
     "output_type": "execute_result"
    }
   ],
   "source": [
    "#Checking that all the values are above zero\n",
    "(data_short.Population > 0).astype(int).sum()"
   ]
  },
  {
   "cell_type": "code",
   "execution_count": 15,
   "metadata": {},
   "outputs": [
    {
     "data": {
      "text/plain": [
       "LinearRegression(copy_X=True, fit_intercept=True, n_jobs=1, normalize=False)"
      ]
     },
     "execution_count": 15,
     "metadata": {},
     "output_type": "execute_result"
    }
   ],
   "source": [
    "# Initiate and fit our model.\n",
    "regr = linear_model.LinearRegression()\n",
    "X = data_short['Robbery'].values.reshape(-1,1)\n",
    "Y = data_short[['Population','Murder','Population_sq']]\n",
    "regr.fit(X,Y)"
   ]
  },
  {
   "cell_type": "code",
   "execution_count": 16,
   "metadata": {},
   "outputs": [
    {
     "name": "stdout",
     "output_type": "stream",
     "text": [
      "\n",
      "Coefficients: \n",
      " [[5.90626217e+04]\n",
      " [2.22470827e-01]\n",
      " [3.38861134e+11]]\n",
      "\n",
      "Intercept: \n",
      " [4.56611511e+03 7.19424460e-03 4.32229416e+07]\n",
      "\n",
      "R-squared:\n",
      "0.0019345087987814626\n"
     ]
    }
   ],
   "source": [
    "#Results\n",
    "print('\\nCoefficients: \\n', regr.coef_)\n",
    "print('\\nIntercept: \\n', regr.intercept_)\n",
    "print('\\nR-squared:')\n",
    "print(regr.score(X, Y))"
   ]
  },
  {
   "cell_type": "code",
   "execution_count": 17,
   "metadata": {},
   "outputs": [
    {
     "data": {
      "text/plain": [
       "Index(['City', 'Population', 'Violent\\ncrime',\n",
       "       'Murder and\\nnonnegligent\\nmanslaughter',\n",
       "       'Rape\\n(revised\\ndefinition)1', 'Rape\\n(legacy\\ndefinition)2',\n",
       "       'Robbery', 'Aggravated\\nassault', 'Property\\ncrime', 'Burglary',\n",
       "       'Larceny-\\ntheft', 'Motor\\nvehicle\\ntheft', 'Arson3'],\n",
       "      dtype='object')"
      ]
     },
     "execution_count": 17,
     "metadata": {},
     "output_type": "execute_result"
    }
   ],
   "source": [
    "data.columns"
   ]
  },
  {
   "cell_type": "code",
   "execution_count": 18,
   "metadata": {},
   "outputs": [],
   "source": [
    "data_short['Property_crime'] = data['Property\\ncrime']"
   ]
  },
  {
   "cell_type": "code",
   "execution_count": 19,
   "metadata": {},
   "outputs": [],
   "source": [
    "data_short['Larceny_by_pop'] = data['Larceny-\\ntheft']/data['Population']"
   ]
  },
  {
   "cell_type": "code",
   "execution_count": 20,
   "metadata": {},
   "outputs": [
    {
     "name": "stdout",
     "output_type": "stream",
     "text": [
      "\n",
      "Coefficients: \n",
      " [[5.90626217e+04]\n",
      " [3.38861134e+11]\n",
      " [1.23867299e+03]\n",
      " [2.22470827e-01]\n",
      " [1.04719881e-02]]\n",
      "\n",
      "Intercept: \n",
      " [4.56611511e+03 4.32229416e+07 4.86906475e+01 7.19424460e-03\n",
      " 9.52674037e-03]\n",
      "\n",
      "R-squared:\n",
      "0.0019345087987814626\n"
     ]
    }
   ],
   "source": [
    "#Try a new combination\n",
    "Y2 = data_short[['Population','Population_sq','Property_crime', 'Murder','Larceny_by_pop']]\n",
    "regr.fit(X,Y2)\n",
    "#Results\n",
    "print('\\nCoefficients: \\n', regr.coef_)\n",
    "print('\\nIntercept: \\n', regr.intercept_)\n",
    "print('\\nR-squared:')\n",
    "print(regr.score(X, Y2))"
   ]
  },
  {
   "cell_type": "code",
   "execution_count": 21,
   "metadata": {},
   "outputs": [
    {
     "data": {
      "text/plain": [
       "(array([347.,   0.,   0.,   0.,   0.,   0.,   0.,   0.,   0.,   1.]),\n",
       " array([2.76676000e+05, 7.04949343e+12, 1.40989866e+13, 2.11484797e+13,\n",
       "        2.81979729e+13, 3.52474660e+13, 4.22969592e+13, 4.93464523e+13,\n",
       "        5.63959455e+13, 6.34454387e+13, 7.04949318e+13]),\n",
       " <a list of 10 Patch objects>)"
      ]
     },
     "execution_count": 21,
     "metadata": {},
     "output_type": "execute_result"
    },
    {
     "data": {
      "image/png": "[encoded data removed]",
      "text/plain": [
       "<Figure size 432x288 with 1 Axes>"
      ]
     },
     "metadata": {},
     "output_type": "display_data"
    }
   ],
   "source": [
    "plt.hist(data_short['Population_sq'])"
   ]
  },
  {
   "cell_type": "code",
   "execution_count": 22,
   "metadata": {},
   "outputs": [
    {
     "name": "stderr",
     "output_type": "stream",
     "text": [
      "/Library/Frameworks/Python.framework/Versions/3.6/lib/python3.6/site-packages/numpy/core/fromnumeric.py:52: FutureWarning: 'argmax' is deprecated. Use 'idxmax' instead. The behavior of 'argmax' will be corrected to return the positional maximum in the future. Use 'series.values.argmax' to get the position of the maximum now.\n",
      "  return getattr(obj, method)(*args, **kwds)\n"
     ]
    },
    {
     "data": {
      "text/plain": [
       "216"
      ]
     },
     "execution_count": 22,
     "metadata": {},
     "output_type": "execute_result"
    }
   ],
   "source": [
    "np.argmax(data_short['Population_sq'])"
   ]
  },
  {
   "cell_type": "code",
   "execution_count": 23,
   "metadata": {},
   "outputs": [],
   "source": [
    "data_short = data_short.drop(index=216)"
   ]
  },
  {
   "cell_type": "code",
   "execution_count": 24,
   "metadata": {},
   "outputs": [
    {
     "name": "stdout",
     "output_type": "stream",
     "text": [
      "\n",
      "Coefficients: \n",
      " [[1.90025387e+04]\n",
      " [1.57254022e+09]\n",
      " [5.62309353e+02]\n",
      " [2.18767294e-01]\n",
      " [1.05006076e-02]]\n",
      "\n",
      "Intercept: \n",
      " [4.56611511e+03 4.32229416e+07 4.86906475e+01 7.19424460e-03\n",
      " 9.52674037e-03]\n",
      "\n",
      "R-squared:\n",
      "0.023191799225444346\n"
     ]
    }
   ],
   "source": [
    "#Try a new combination\n",
    "X2 = data_short['Robbery'].values.reshape(-1,1)\n",
    "Y2 = data_short[['Population','Population_sq','Property_crime', 'Murder','Larceny_by_pop']]\n",
    "regr.fit(X2,Y2)\n",
    "#Results\n",
    "print('\\nCoefficients: \\n', regr.coef_)\n",
    "print('\\nIntercept: \\n', regr.intercept_)\n",
    "print('\\nR-squared:')\n",
    "print(regr.score(X2, Y2))"
   ]
  },
  {
   "cell_type": "code",
   "execution_count": 25,
   "metadata": {},
   "outputs": [
    {
     "data": {
      "text/plain": [
       "(array([ 8., 31., 59., 57., 71., 48., 44., 17.,  8.,  4.]),\n",
       " array([2.72098574, 2.99018175, 3.25937776, 3.52857376, 3.79776977,\n",
       "        4.06696578, 4.33616179, 4.60535779, 4.8745538 , 5.14374981,\n",
       "        5.41294581]),\n",
       " <a list of 10 Patch objects>)"
      ]
     },
     "execution_count": 25,
     "metadata": {},
     "output_type": "execute_result"
    },
    {
     "data": {
      "image/png": "[encoded data removed]",
      "text/plain": [
       "<Figure size 432x288 with 1 Axes>"
      ]
     },
     "metadata": {},
     "output_type": "display_data"
    }
   ],
   "source": [
    "plt.hist(np.log10(data_short['Population']))"
   ]
  },
  {
   "cell_type": "code",
   "execution_count": 26,
   "metadata": {},
   "outputs": [],
   "source": [
    "data_short.Population = np.log10(data_short['Population'])"
   ]
  },
  {
   "cell_type": "code",
   "execution_count": 27,
   "metadata": {},
   "outputs": [
    {
     "data": {
      "text/plain": [
       "(array([ 8., 31., 59., 57., 71., 48., 44., 17.,  8.,  4.]),\n",
       " array([ 5.44197149,  5.9803635 ,  6.51875552,  7.05714753,  7.59553954,\n",
       "         8.13393156,  8.67232357,  9.21071558,  9.7491076 , 10.28749961,\n",
       "        10.82589162]),\n",
       " <a list of 10 Patch objects>)"
      ]
     },
     "execution_count": 27,
     "metadata": {},
     "output_type": "execute_result"
    },
    {
     "data": {
      "image/png": "[encoded data removed]",
      "text/plain": [
       "<Figure size 432x288 with 1 Axes>"
      ]
     },
     "metadata": {},
     "output_type": "display_data"
    }
   ],
   "source": [
    "plt.hist(np.log10(data_short['Population_sq']))"
   ]
  },
  {
   "cell_type": "code",
   "execution_count": 28,
   "metadata": {},
   "outputs": [],
   "source": [
    "data_short.Population_sq = np.log10(data_short['Population_sq'])"
   ]
  },
  {
   "cell_type": "code",
   "execution_count": 29,
   "metadata": {},
   "outputs": [
    {
     "name": "stdout",
     "output_type": "stream",
     "text": [
      "\n",
      "Coefficients: \n",
      " [[0.62874949]\n",
      " [1.25749898]\n",
      " [0.21876729]]\n",
      "\n",
      "Intercept: \n",
      " [3.50394389 7.00788777 0.00719424]\n",
      "\n",
      "R-squared:\n",
      "0.33548830010604697\n"
     ]
    }
   ],
   "source": [
    "#Use logs instead of values for Pop/Pop_sq\n",
    "X2 = data_short['Robbery'].values.reshape(-1,1)\n",
    "Y2 = data_short[['Population','Population_sq', 'Murder']]\n",
    "regr.fit(X2,Y2)\n",
    "#Results\n",
    "print('\\nCoefficients: \\n', regr.coef_)\n",
    "print('\\nIntercept: \\n', regr.intercept_)\n",
    "print('\\nR-squared:')\n",
    "print(regr.score(X2, Y2))"
   ]
  },
  {
   "cell_type": "code",
   "execution_count": 31,
   "metadata": {},
   "outputs": [
    {
     "data": {
      "text/plain": [
       "array([0.43555828, 0.0863728 , 0.18358237, 0.5138652 , 0.26177408,\n",
       "       0.30614851, 0.34104905, 0.48661652, 0.35062535, 0.42503754])"
      ]
     },
     "execution_count": 31,
     "metadata": {},
     "output_type": "execute_result"
    }
   ],
   "source": [
    "#Evaluate data set - Cross validation\n",
    "from sklearn.model_selection import cross_val_score\n",
    "cross_val_score(regr,Y2,X2, cv=10)"
   ]
  },
  {
   "cell_type": "code",
   "execution_count": 33,
   "metadata": {},
   "outputs": [
    {
     "data": {
      "text/plain": [
       "347"
      ]
     },
     "execution_count": 33,
     "metadata": {},
     "output_type": "execute_result"
    }
   ],
   "source": [
    "len(data_short)"
   ]
  },
  {
   "cell_type": "code",
   "execution_count": 34,
   "metadata": {},
   "outputs": [],
   "source": [
    "data_fold1 = data_short.iloc[:174,:]\n",
    "data_fold2 = data_short.iloc[174:,:]"
   ]
  },
  {
   "cell_type": "code",
   "execution_count": 42,
   "metadata": {},
   "outputs": [
    {
     "name": "stdout",
     "output_type": "stream",
     "text": [
      "\n",
      "Coefficients: \n",
      " [[0.57537764]\n",
      " [1.15075528]\n",
      " [0.16451919]]\n",
      "\n",
      "Intercept: \n",
      " [3.51581607 7.03163214 0.01369863]\n",
      "\n",
      "R-squared:\n",
      "0.36195476945259036\n",
      "0.29246722431011496\n"
     ]
    }
   ],
   "source": [
    "#Train data on fold 1\n",
    "X_fold1 = data_fold1['Robbery'].values.reshape(-1,1)\n",
    "Y_fold1 = data_fold1[['Population','Population_sq', 'Murder']]\n",
    "regr.fit(X_fold1,Y_fold1)\n",
    "#Results\n",
    "X_fold2 = data_fold2['Robbery'].values.reshape(-1,1)\n",
    "Y_fold2 = data_fold2[['Population','Population_sq', 'Murder']]\n",
    "print('\\nCoefficients: \\n', regr.coef_)\n",
    "print('\\nIntercept: \\n', regr.intercept_)\n",
    "print('\\nR-squared:')\n",
    "print(regr.score(X_fold2, Y_fold2))\n",
    "print(regr.score(X_fold1, Y_fold1))"
   ]
  },
  {
   "cell_type": "code",
   "execution_count": 43,
   "metadata": {},
   "outputs": [],
   "source": [
    "#Neither cross val nor fold show consistency or a good r_sq value\n",
    "#Let's add some more features to see if we can increase this\n",
    "data_short['Car_theft'] = data['Motor\\nvehicle\\ntheft']"
   ]
  },
  {
   "cell_type": "code",
   "execution_count": 68,
   "metadata": {},
   "outputs": [
    {
     "name": "stderr",
     "output_type": "stream",
     "text": [
      "/Library/Frameworks/Python.framework/Versions/3.6/lib/python3.6/site-packages/ipykernel_launcher.py:4: RuntimeWarning: overflow encountered in reciprocal\n",
      "  after removing the cwd from sys.path.\n"
     ]
    }
   ],
   "source": [
    "from numpy import *\n",
    "car_test_log = np.log10(data_short.Car_theft, where= (data_short.Car_theft != 0)).dropna()\n",
    "car_test_recip = np.reciprocal(data_short.Car_theft, where= (data_short.Car_theft != 0)).dropna()\n",
    "car_test_recip_log = np.reciprocal(car_test_log, where= (car_test_log != 0))"
   ]
  },
  {
   "cell_type": "code",
   "execution_count": 60,
   "metadata": {},
   "outputs": [
    {
     "data": {
      "text/plain": [
       "(array([147.,  69.,  48.,  38.,  18.,  12.,   8.,   4.,   1.,   2.]),\n",
       " array([0.        , 0.29809119, 0.59618239, 0.89427358, 1.19236478,\n",
       "        1.49045597, 1.78854716, 2.08663836, 2.38472955, 2.68282074,\n",
       "        2.98091194]),\n",
       " <a list of 10 Patch objects>)"
      ]
     },
     "execution_count": 60,
     "metadata": {},
     "output_type": "execute_result"
    },
    {
     "data": {
      "image/png": "[encoded data removed]",
      "text/plain": [
       "<Figure size 432x288 with 1 Axes>"
      ]
     },
     "metadata": {},
     "output_type": "display_data"
    }
   ],
   "source": [
    "plt.hist(car_test_log)"
   ]
  },
  {
   "cell_type": "code",
   "execution_count": 78,
   "metadata": {},
   "outputs": [],
   "source": [
    "car_test_recip_log.replace(to_replace=[np.inf, -np.inf], value=0, inplace=True)"
   ]
  },
  {
   "cell_type": "code",
   "execution_count": 79,
   "metadata": {},
   "outputs": [
    {
     "data": {
      "text/plain": [
       "(array([93., 26., 37., 89., 14., 19., 24.,  0.,  0., 45.]),\n",
       " array([0.        , 0.33219281, 0.66438562, 0.99657843, 1.32877124,\n",
       "        1.66096405, 1.99315686, 2.32534967, 2.65754248, 2.98973529,\n",
       "        3.32192809]),\n",
       " <a list of 10 Patch objects>)"
      ]
     },
     "execution_count": 79,
     "metadata": {},
     "output_type": "execute_result"
    },
    {
     "data": {
      "image/png": "[encoded data removed]",
      "text/plain": [
       "<Figure size 432x288 with 1 Axes>"
      ]
     },
     "metadata": {},
     "output_type": "display_data"
    }
   ],
   "source": [
    "plt.hist(car_test_recip_log)"
   ]
  },
  {
   "cell_type": "code",
   "execution_count": 86,
   "metadata": {},
   "outputs": [],
   "source": [
    "data_short.Car_theft = car_test_log"
   ]
  },
  {
   "cell_type": "code",
   "execution_count": 87,
   "metadata": {},
   "outputs": [
    {
     "name": "stdout",
     "output_type": "stream",
     "text": [
      "\n",
      "Coefficients: \n",
      " [[0.62874949]\n",
      " [1.25749898]\n",
      " [0.21876729]\n",
      " [0.64331151]]\n",
      "\n",
      "Intercept: \n",
      " [3.50394389 7.00788777 0.00719424 0.1126482 ]\n",
      "\n",
      "R-squared:\n",
      "0.3250001629679952\n"
     ]
    }
   ],
   "source": [
    "#Use logs instead of values for Pop/Pop_sq\n",
    "X2 = data_short['Robbery'].values.reshape(-1,1)\n",
    "Y2 = data_short[['Population','Population_sq', 'Murder','Car_theft']]\n",
    "regr.fit(X2,Y2)\n",
    "#Results\n",
    "print('\\nCoefficients: \\n', regr.coef_)\n",
    "print('\\nIntercept: \\n', regr.intercept_)\n",
    "print('\\nR-squared:')\n",
    "print(regr.score(X2, Y2))"
   ]
  },
  {
   "cell_type": "code",
   "execution_count": 88,
   "metadata": {},
   "outputs": [],
   "source": [
    "data_short.Murder = data['Murder and\\nnonnegligent\\nmanslaughter'].dropna()"
   ]
  },
  {
   "cell_type": "code",
   "execution_count": 89,
   "metadata": {},
   "outputs": [
    {
     "name": "stdout",
     "output_type": "stream",
     "text": [
      "\n",
      "Coefficients: \n",
      " [[0.62874949]\n",
      " [1.25749898]\n",
      " [0.99761345]\n",
      " [0.64331151]]\n",
      "\n",
      "Intercept: \n",
      " [3.50394389 7.00788777 0.00719424 0.1126482 ]\n",
      "\n",
      "R-squared:\n",
      "0.05284039506723408\n"
     ]
    }
   ],
   "source": [
    "#Use logs instead of values for Pop/Pop_sq\n",
    "X2 = data_short['Robbery'].values.reshape(-1,1)\n",
    "Y2 = data_short[['Population','Population_sq', 'Murder','Car_theft']]\n",
    "regr.fit(X2,Y2)\n",
    "#Results\n",
    "print('\\nCoefficients: \\n', regr.coef_)\n",
    "print('\\nIntercept: \\n', regr.intercept_)\n",
    "print('\\nR-squared:')\n",
    "print(regr.score(X2, Y2))"
   ]
  },
  {
   "cell_type": "code",
   "execution_count": 95,
   "metadata": {},
   "outputs": [],
   "source": [
    "data_short['Larceny_by_pop'] = (data_short['Larceny_by_pop'] > 0).astype(int)\n",
    "data_short['Property_crime'] = (data_short['Property_crime'] > 0).astype(int)\n"
   ]
  },
  {
   "cell_type": "code",
   "execution_count": 98,
   "metadata": {},
   "outputs": [
    {
     "name": "stdout",
     "output_type": "stream",
     "text": [
      "\n",
      "Coefficients: \n",
      " [[0.62874949]\n",
      " [1.25749898]\n",
      " [0.21876729]\n",
      " [0.64331151]\n",
      " [0.05035971]\n",
      " [0.04316547]]\n",
      "\n",
      "Intercept: \n",
      " [3.50394389 7.00788777 0.00719424 0.1126482  0.94964029 0.95683453]\n",
      "\n",
      "R-squared:\n",
      "0.3190760026814922\n"
     ]
    }
   ],
   "source": [
    "#Use logs instead of values for Pop/Pop_sq\n",
    "X2 = data_short['Robbery'].values.reshape(-1,1)\n",
    "Y2 = data_short[['Population','Population_sq', 'Murder','Car_theft', 'Larceny_by_pop'\n",
    "                 ,'Property_crime']]\n",
    "regr.fit(X2,Y2)\n",
    "#Results\n",
    "print('\\nCoefficients: \\n', regr.coef_)\n",
    "print('\\nIntercept: \\n', regr.intercept_)\n",
    "print('\\nR-squared:')\n",
    "print(regr.score(X2, Y2))"
   ]
  },
  {
   "cell_type": "code",
   "execution_count": 99,
   "metadata": {},
   "outputs": [
    {
     "data": {
      "text/plain": [
       "array([0.41594217, 0.09062389, 0.23268369, 0.50823946, 0.27555215,\n",
       "       0.26900244, 0.37764051, 0.48252279, 0.35379649, 0.44233543])"
      ]
     },
     "execution_count": 99,
     "metadata": {},
     "output_type": "execute_result"
    }
   ],
   "source": [
    "#Evaluate data set - Cross validation\n",
    "from sklearn.model_selection import cross_val_score\n",
    "cross_val_score(regr,Y2,X2, cv=10)\n",
    "#Still all over the place"
   ]
  },
  {
   "cell_type": "code",
   "execution_count": 100,
   "metadata": {},
   "outputs": [],
   "source": [
    "data_short['Violent_crime'] = data['Violent\\ncrime'].dropna()"
   ]
  },
  {
   "cell_type": "code",
   "execution_count": 105,
   "metadata": {},
   "outputs": [],
   "source": [
    "data_short['Violent_crime'] = (data_short.Violent_crime > 0).astype(int)"
   ]
  },
  {
   "cell_type": "code",
   "execution_count": 106,
   "metadata": {},
   "outputs": [
    {
     "name": "stdout",
     "output_type": "stream",
     "text": [
      "\n",
      "Coefficients: \n",
      " [[0.62874949]\n",
      " [1.25749898]\n",
      " [0.21876729]\n",
      " [0.64331151]\n",
      " [0.05035971]\n",
      " [0.04316547]\n",
      " [0.36690647]]\n",
      "\n",
      "Intercept: \n",
      " [3.50394389 7.00788777 0.00719424 0.1126482  0.94964029 0.95683453\n",
      " 0.63309353]\n",
      "\n",
      "R-squared:\n",
      "0.3151653225076749\n"
     ]
    },
    {
     "data": {
      "text/plain": [
       "array([0.49852262, 0.21887694, 0.35465308, 0.56441278, 0.38156469,\n",
       "       0.3670264 , 0.42638059, 0.50883614, 0.41596851, 0.49649945])"
      ]
     },
     "execution_count": 106,
     "metadata": {},
     "output_type": "execute_result"
    }
   ],
   "source": [
    "#Use logs instead of values for Pop/Pop_sq\n",
    "X2 = data_short['Robbery'].values.reshape(-1,1)\n",
    "Y2 = data_short[['Population','Population_sq', 'Murder','Car_theft', 'Larceny_by_pop'\n",
    "                 ,'Property_crime', 'Violent_crime']]\n",
    "regr.fit(X2,Y2)\n",
    "#Results\n",
    "print('\\nCoefficients: \\n', regr.coef_)\n",
    "print('\\nIntercept: \\n', regr.intercept_)\n",
    "print('\\nR-squared:')\n",
    "print(regr.score(X2, Y2))\n",
    "\n",
    "#Evaluate data set - Cross validation\n",
    "from sklearn.model_selection import cross_val_score\n",
    "cross_val_score(regr,Y2,X2, cv=10)\n",
    "#A little more normalized, still could be better"
   ]
  },
  {
   "cell_type": "code",
   "execution_count": 108,
   "metadata": {},
   "outputs": [],
   "source": [
    "data_short.Car_theft = (data_short.Car_theft > 0).astype(int)"
   ]
  },
  {
   "cell_type": "code",
   "execution_count": 109,
   "metadata": {},
   "outputs": [
    {
     "name": "stdout",
     "output_type": "stream",
     "text": [
      "\n",
      "Coefficients: \n",
      " [[0.62874949]\n",
      " [1.25749898]\n",
      " [0.21876729]\n",
      " [0.53188987]\n",
      " [0.05035971]\n",
      " [0.04316547]\n",
      " [0.36690647]]\n",
      "\n",
      "Intercept: \n",
      " [3.50394389 7.00788777 0.00719424 0.26618705 0.94964029 0.95683453\n",
      " 0.63309353]\n",
      "\n",
      "R-squared:\n",
      "0.3168626563299309\n"
     ]
    },
    {
     "data": {
      "text/plain": [
       "array([0.56259499, 0.2629726 , 0.35287104, 0.56085786, 0.37393561,\n",
       "       0.37521882, 0.37974754, 0.54694054, 0.51100221, 0.55952628])"
      ]
     },
     "execution_count": 109,
     "metadata": {},
     "output_type": "execute_result"
    }
   ],
   "source": [
    "#Use logs instead of values for Pop/Pop_sq\n",
    "X2 = data_short['Robbery'].values.reshape(-1,1)\n",
    "Y2 = data_short[['Population','Population_sq', 'Murder','Car_theft', 'Larceny_by_pop'\n",
    "                 ,'Property_crime', 'Violent_crime']]\n",
    "regr.fit(X2,Y2)\n",
    "#Results\n",
    "print('\\nCoefficients: \\n', regr.coef_)\n",
    "print('\\nIntercept: \\n', regr.intercept_)\n",
    "print('\\nR-squared:')\n",
    "print(regr.score(X2, Y2))\n",
    "\n",
    "#Evaluate data set - Cross validation\n",
    "from sklearn.model_selection import cross_val_score\n",
    "cross_val_score(regr,Y2,X2, cv=10)\n",
    "#A little more normalized, still could be better"
   ]
  },
  {
   "cell_type": "code",
   "execution_count": 110,
   "metadata": {},
   "outputs": [],
   "source": [
    "data_short['Vehical_theft'] = (data['Motor\\nvehicle\\ntheft'] > 0).astype(int)"
   ]
  },
  {
   "cell_type": "code",
   "execution_count": 111,
   "metadata": {},
   "outputs": [
    {
     "name": "stdout",
     "output_type": "stream",
     "text": [
      "\n",
      "Coefficients: \n",
      " [[0.62874949]\n",
      " [1.25749898]\n",
      " [0.21876729]\n",
      " [0.53188987]\n",
      " [0.05035971]\n",
      " [0.04316547]\n",
      " [0.36690647]\n",
      " [0.40502214]]\n",
      "\n",
      "Intercept: \n",
      " [3.50394389 7.00788777 0.00719424 0.26618705 0.94964029 0.95683453\n",
      " 0.63309353 0.48920863]\n",
      "\n",
      "R-squared:\n",
      "0.3057539441838151\n"
     ]
    },
    {
     "data": {
      "text/plain": [
       "array([0.56282779, 0.26081793, 0.32550226, 0.5454518 , 0.37413974,\n",
       "       0.37202592, 0.37126176, 0.53368825, 0.50759779, 0.55935077])"
      ]
     },
     "execution_count": 111,
     "metadata": {},
     "output_type": "execute_result"
    }
   ],
   "source": [
    "#Use logs instead of values for Pop/Pop_sq\n",
    "X2 = data_short['Robbery'].values.reshape(-1,1)\n",
    "Y2 = data_short[['Population','Population_sq', 'Murder','Car_theft', 'Larceny_by_pop'\n",
    "                 ,'Property_crime', 'Violent_crime', 'Vehical_theft']]\n",
    "regr.fit(X2,Y2)\n",
    "#Results\n",
    "print('\\nCoefficients: \\n', regr.coef_)\n",
    "print('\\nIntercept: \\n', regr.intercept_)\n",
    "print('\\nR-squared:')\n",
    "print(regr.score(X2, Y2))\n",
    "\n",
    "#Evaluate data set - Cross validation\n",
    "from sklearn.model_selection import cross_val_score\n",
    "cross_val_score(regr,Y2,X2, cv=10)\n",
    "#A little more normalized, still could be better"
   ]
  },
  {
   "cell_type": "code",
   "execution_count": null,
   "metadata": {},
   "outputs": [],
   "source": [
    "#Though the overall R2 value went down, adding more theft-related columns as a binary\n",
    "#adds consistency to the CVS."
   ]
  }
 ],
 "metadata": {
  "kernelspec": {
   "display_name": "Python 3",
   "language": "python",
   "name": "python3"
  },
  "language_info": {
   "codemirror_mode": {
    "name": "ipython",
    "version": 3
   },
   "file_extension": ".py",
   "mimetype": "text/x-python",
   "name": "python",
   "nbconvert_exporter": "python",
   "pygments_lexer": "ipython3",
   "version": "3.6.4"
  }
 },
 "nbformat": 4,
 "nbformat_minor": 2
}
